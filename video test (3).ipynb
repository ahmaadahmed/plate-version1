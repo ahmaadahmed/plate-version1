{
 "cells": [
  {
   "cell_type": "code",
   "execution_count": 20,
   "id": "db1131cd",
   "metadata": {},
   "outputs": [],
   "source": [
    "import os\n",
    "import cv2\n",
    "import torch\n",
    "import numpy as np"
   ]
  },
  {
   "cell_type": "code",
   "execution_count": 3,
   "id": "5afd80fc",
   "metadata": {},
   "outputs": [],
   "source": [
    "# # Define the path to the input video file\n",
    "# video_path = r\"F:/egyptian car plates dataset/EALPR Vechicles dataset/plates models/detection_model/model3/14.mp4\"\n",
    "\n",
    "# # Define the output directory for saving the frames\n",
    "# output_dir = r\"F:\\egyptian car plates dataset\\EALPR Vechicles dataset\\plates models\\detection_model\\model3\\saved_frames2\"\n",
    "# os.makedirs(output_dir, exist_ok=True)\n",
    "\n",
    "# # Initialize the video capture object\n",
    "# cap = cv2.VideoCapture(video_path)\n",
    "\n",
    "# # Initialize variables for frame extraction\n",
    "# frame_count = 0\n",
    "# frame_rate = 1  # Extract a frame every second\n",
    "\n",
    "# # Loop through the frames of the video and extract frames at the specified frame rate\n",
    "# while True:\n",
    "#     ret, frame = cap.read()\n",
    "#     if not ret:\n",
    "#         break\n",
    "\n",
    "#     # Check if it's time to extract a frame\n",
    "#     if frame_count % int(cap.get(cv2.CAP_PROP_FPS)) == 0:\n",
    "#         # Save the frame as an image in the output directory\n",
    "#         cv2.imwrite(os.path.join(output_dir, f\"frame{frame_count}.jpg\"), frame)\n",
    "\n",
    "#     # Increment the frame count\n",
    "#     frame_count += 1\n",
    "\n",
    "#     # Set the video capture object to the next frame at the specified frame rate\n",
    "#     cap.set(cv2.CAP_PROP_POS_FRAMES, frame_count * frame_rate)\n",
    "\n",
    "# # Release the video capture object\n",
    "# cap.release()"
   ]
  },
  {
   "cell_type": "code",
   "execution_count": 21,
   "id": "15361db1",
   "metadata": {},
   "outputs": [],
   "source": [
    "os.chdir('F:\\egyptian car plates dataset\\EALPR Vechicles dataset\\plates models\\detection_model\\model3\\yolov5/')"
   ]
  },
  {
   "cell_type": "code",
   "execution_count": 50,
   "id": "f75f2e71",
   "metadata": {},
   "outputs": [
    {
     "name": "stderr",
     "output_type": "stream",
     "text": [
      "YOLOv5  2023-9-24 Python-3.11.3 torch-2.0.1+cpu CPU\n",
      "\n",
      "Fusing layers... \n",
      "Model summary: 157 layers, 7012822 parameters, 0 gradients, 15.8 GFLOPs\n",
      "Adding AutoShape... \n"
     ]
    }
   ],
   "source": [
    "model = torch.hub.load('.', 'custom', path='F:\\egyptian car plates dataset\\EALPR Vechicles dataset\\plates models\\detection_model\\model3/best.pt', source='local')"
   ]
  },
  {
   "cell_type": "code",
   "execution_count": 23,
   "id": "457df718",
   "metadata": {},
   "outputs": [
    {
     "name": "stderr",
     "output_type": "stream",
     "text": [
      "YOLOv5  2023-9-24 Python-3.11.3 torch-2.0.1+cpu CPU\n",
      "\n",
      "Fusing layers... \n",
      "Model summary: 157 layers, 7012822 parameters, 0 gradients, 15.8 GFLOPs\n",
      "Adding AutoShape... \n",
      "YOLOv5  2023-9-24 Python-3.11.3 torch-2.0.1+cpu CPU\n",
      "\n",
      "Fusing layers... \n",
      "Model summary: 157 layers, 7080247 parameters, 0 gradients, 16.0 GFLOPs\n",
      "Adding AutoShape... \n"
     ]
    }
   ],
   "source": [
    "detection_model = torch.hub.load('.', 'custom', path='F:\\egyptian car plates dataset\\EALPR Vechicles dataset\\plates models\\detection_model\\model3/best.pt', source='local')\n",
    "\n",
    "recognition_model = torch.hub.load('.', 'custom', path=r'F:\\egyptian car plates dataset\\EALPR Vechicles dataset\\plates models\\model9/best.pt', source='local')"
   ]
  },
  {
   "cell_type": "code",
   "execution_count": 24,
   "id": "5bba522e",
   "metadata": {},
   "outputs": [],
   "source": [
    "import shutil"
   ]
  },
  {
   "cell_type": "code",
   "execution_count": 70,
   "id": "aeb2ea82",
   "metadata": {},
   "outputs": [],
   "source": [
    "images = r'F:\\egyptian car plates dataset\\EALPR Vechicles dataset\\plates models\\detection_model\\model3\\images/'\n",
    "cropped_img_dir = r'F:\\egyptian car plates dataset\\EALPR Vechicles dataset\\plates models\\detection_model\\model3\\yolov5\\runs\\detect'\n",
    "exp_path = r'F:\\egyptian car plates dataset\\EALPR Vechicles dataset\\plates models\\detection_model\\model3\\yolov5\\runs\\detect\\exp'\n",
    "saved_img_dir = r'F:\\egyptian car plates dataset\\EALPR Vechicles dataset\\plates models\\detection_model\\model3\\saved_images'\n",
    "resized_img_dir = r'F:\\egyptian car plates dataset\\EALPR Vechicles dataset\\plates models\\detection_model\\model3\\resized_images'"
   ]
  },
  {
   "cell_type": "code",
   "execution_count": 82,
   "id": "c2f9a04a",
   "metadata": {},
   "outputs": [],
   "source": [
    "def delete_folder_or_file(path):\n",
    "    folder_path = path.split(\"\\\\\")\n",
    "    if \"exp\" in folder_path:\n",
    "        shutil.rmtree(path)\n",
    "    else:\n",
    "        for img in os.listdir(path):\n",
    "            img_path = path + \"\\\\\" + img\n",
    "            # Use os.remove() to delete the file\n",
    "            os.remove(img_path)\n",
    "    return"
   ]
  },
  {
   "cell_type": "code",
   "execution_count": 131,
   "id": "2fbed150",
   "metadata": {},
   "outputs": [],
   "source": [
    "def delete_folder_or_file(path):\n",
    "    try:\n",
    "        if os.path.exists(path):\n",
    "            folder_path = path.split(\"\\\\\")\n",
    "            if \"exp\" in folder_path:\n",
    "                shutil.rmtree(path)\n",
    "            else:\n",
    "                for img in os.listdir(path):\n",
    "                    img_path = os.path.join(path, img)\n",
    "                    # Use os.remove() to delete the file\n",
    "                    os.remove(img_path)\n",
    "            return \"Deletion completed successfully\"\n",
    "        else:\n",
    "            return \"Path does not exist\"\n",
    "    except FileNotFoundError as e:\n",
    "        return f\"Error occurred while deleting the file/folder: {e}\""
   ]
  },
  {
   "cell_type": "code",
   "execution_count": 83,
   "id": "1810ebb6",
   "metadata": {},
   "outputs": [],
   "source": [
    "def apply_detection_model_and_save_results(model, images_path):\n",
    "    for img in os.listdir(images):\n",
    "        try:\n",
    "            img_path = os.path.join(images_path, img)\n",
    "            result = model(img_path)\n",
    "            accuracy = result.xyxyn[0][:, -2].cpu().numpy()[0]\n",
    "            if accuracy > 0.8:\n",
    "                crops = result.crop(save=True)\n",
    "            else:\n",
    "                return \n",
    "        except (OSError, cv2.error) as e:\n",
    "            print(f\"Error processing image {img}: {e}\")\n",
    "            continue"
   ]
  },
  {
   "cell_type": "code",
   "execution_count": 84,
   "id": "e3df799c",
   "metadata": {},
   "outputs": [],
   "source": [
    "def delete_image():\n",
    "    path = r\"F:\\egyptian car plates dataset\\EALPR Vechicles dataset\\plates models\\detection_model\\model3\\yolov5\\runs\\detect\\exp\\crops\\car-plate\"\n",
    "    for i in os.listdir(path):\n",
    "        x = i.split(\".jpg\")[0].split(\"image\")[1]\n",
    "        if x != '0':\n",
    "            os.remove(path+\"\\\\\"+i)\n",
    "            print(\"Image file deleted successfully.\")"
   ]
  },
  {
   "cell_type": "code",
   "execution_count": 132,
   "id": "0e2258e3",
   "metadata": {},
   "outputs": [],
   "source": [
    "def delete_image():\n",
    "    path = r\"F:\\egyptian car plates dataset\\EALPR Vechicles dataset\\plates models\\detection_model\\model3\\yolov5\\runs\\detect\\exp\\crops\\car-plate\"\n",
    "    \n",
    "    if os.path.exists(path):\n",
    "        for i in os.listdir(path):\n",
    "            x = i.split(\".jpg\")[0].split(\"image\")[1]\n",
    "            if x != '0':\n",
    "                os.remove(os.path.join(path, i))\n",
    "                print(f\"Deleted: {i}\")\n",
    "    else:\n",
    "        return \"error\""
   ]
  },
  {
   "cell_type": "code",
   "execution_count": 137,
   "id": "9356d464",
   "metadata": {},
   "outputs": [],
   "source": [
    "def delete_image():\n",
    "    path = r\"F:\\egyptian car plates dataset\\EALPR Vechicles dataset\\plates models\\detection_model\\model3\\yolov5\\runs\\detect\\exp\\crops\\car-plate\"\n",
    "    \n",
    "    if os.path.exists(path):\n",
    "        for i in os.listdir(path):\n",
    "            x = i.split(\".jpg\")[0].split(\"image\")[1]\n",
    "            if x != '0':\n",
    "                os.remove(os.path.join(path, i))\n",
    "                print(f\"Deleted: {i}\")\n",
    "    else:\n",
    "        return \"error\""
   ]
  },
  {
   "cell_type": "code",
   "execution_count": 127,
   "id": "93599644",
   "metadata": {},
   "outputs": [],
   "source": [
    "def save_cropped_img(cropped_img_dir, saved_img_dir):\n",
    "    for filename in os.listdir(cropped_img_dir):\n",
    "        for crops in os.listdir(os.path.join(cropped_img_dir, filename)):\n",
    "            if crops == \"crops\":\n",
    "                for plate in os.listdir(os.path.join(cropped_img_dir, filename, crops)):\n",
    "                    for img in os.listdir(os.path.join(cropped_img_dir, filename, crops, plate)):\n",
    "                        img_path = os.path.join(cropped_img_dir, filename, crops, plate, img)\n",
    "                        image = cv2.imread(img_path)\n",
    "                        cv2.imwrite(saved_img_dir + \"//\" + img, image)\n",
    "    return"
   ]
  },
  {
   "cell_type": "code",
   "execution_count": 86,
   "id": "ec9ff0f2",
   "metadata": {},
   "outputs": [],
   "source": [
    "def resize_img(saved_img_dir, resized_img_dir):\n",
    "    # Create the output folder if it doesn't exist\n",
    "    os.makedirs(resized_img_dir, exist_ok=True)\n",
    "    # Iterate over the files in the input folder\n",
    "    for filename in os.listdir(saved_img_dir):\n",
    "        input_path = os.path.join(saved_img_dir, filename)\n",
    "        output_path = os.path.join(resized_img_dir, filename)\n",
    "\n",
    "        # Check if the file is an image\n",
    "        if filename.endswith('.jpg') or filename.endswith('.jpeg') or filename.endswith('.png'):\n",
    "            # Read the image\n",
    "            image = cv2.imread(input_path)\n",
    "\n",
    "            # Check if the image was successfully read\n",
    "            if image is not None:\n",
    "                ratio = 600 / image.shape[1]\n",
    "                width = round(image.shape[1] * ratio)\n",
    "                height = round(image.shape[0] * ratio)\n",
    "\n",
    "                # Resize the image\n",
    "                resized_image = cv2.resize(image, (width, height))\n",
    "\n",
    "                # Save the resized image to the output folder\n",
    "                cv2.imwrite(output_path, resized_image)\n",
    "                # print(f\"Resized image saved: {output_path}\")\n",
    "            else:\n",
    "                print(f\"Failed to read image: {input_path}\")\n",
    "        else:\n",
    "            print(f\"Skipping non-image file: {input_path}\")"
   ]
  },
  {
   "cell_type": "code",
   "execution_count": 87,
   "id": "321acacf",
   "metadata": {},
   "outputs": [],
   "source": [
    "def reverse_labels_and_boxes(img_path):\n",
    "    for img in os.listdir(img_path):\n",
    "        image_path = img_path + \"\\\\\" + img\n",
    "    results = recognition_model(image_path)\n",
    "\n",
    "    # Get the predicted labels and bounding box coordinates\n",
    "    labels = results.xyxyn[0][:, -1].cpu().numpy()\n",
    "    boxes = results.xyxyn[0][:, :-1].cpu().numpy()\n",
    "\n",
    "    # Get the class names associated with the model\n",
    "    class_names = recognition_model.module.names if hasattr(recognition_model, 'module') else recognition_model.names\n",
    "\n",
    "    # Reverse the order of labels and bounding boxes\n",
    "    reversed_labels = labels[::-1]\n",
    "    reversed_boxes = boxes[::-1]\n",
    "    return reversed_labels, reversed_boxes, class_names"
   ]
  },
  {
   "cell_type": "code",
   "execution_count": 88,
   "id": "4db417cc",
   "metadata": {},
   "outputs": [],
   "source": [
    "def return_model_result(reversed_labels, reversed_boxes, class_names):        \n",
    "        # Initialize an empty dictionary to store the results\n",
    "        model_result = {}\n",
    "\n",
    "        # Iterate over the reversed bounding box coordinates and labels\n",
    "        for label, box in zip(reversed_labels, reversed_boxes):\n",
    "            # Get the label name using the model's class names\n",
    "            label_name = class_names[int(label)]\n",
    "\n",
    "            # Check if the label name already exists in the dictionary\n",
    "            if label_name in model_result:\n",
    "                # If the label name exists, append the bounding box to the existing list\n",
    "                model_result[label_name].append(box[0])\n",
    "            else:\n",
    "                # If the label name doesn't exist, create a new list with the bounding box\n",
    "                model_result[label_name] = [box[0]]\n",
    "\n",
    "        # Print the model_result dictionary\n",
    "        return model_result"
   ]
  },
  {
   "cell_type": "code",
   "execution_count": 89,
   "id": "b920637d",
   "metadata": {},
   "outputs": [],
   "source": [
    "def return_sorted_plate_characters(reversed_labels, reversed_boxes,class_names, model_result):\n",
    "    lst = []\n",
    "    for label, box in zip(reversed_labels, reversed_boxes):\n",
    "        # Get the label name using the model's class names\n",
    "        label_name = class_names[int(label)]\n",
    "\n",
    "        lst.append(box[0])\n",
    "\n",
    "    lst.sort()  # Sort the list of bounding boxes in ascending order\n",
    "\n",
    "    # Initialize an empty list to store the matching keys\n",
    "    matching_keys = []\n",
    "\n",
    "    # Iterate over the elements in lst\n",
    "    for item in lst:\n",
    "        found_match = False\n",
    "        for key, value in model_result.items():\n",
    "            if np.allclose(value, item):\n",
    "                matching_keys.append(key)\n",
    "                found_match = True\n",
    "                break\n",
    "        if not found_match:\n",
    "            # Check if the item matches any array value element-wise\n",
    "            for key, value in model_result.items():\n",
    "                if any(np.allclose(v, item) for v in value):\n",
    "                    matching_keys.append(key)\n",
    "                    break\n",
    "\n",
    "    # return the matching keys\n",
    "    return matching_keys"
   ]
  },
  {
   "cell_type": "code",
   "execution_count": 90,
   "id": "db3f4acf",
   "metadata": {},
   "outputs": [],
   "source": [
    "replace_arabic_characters_and_digits = {\"zero\": 0, \"one\": 1, \"two\": 2, \"three\": 3, \"four\": 4, \"five\": 5, \"six\": 6, \"seven\": 7, \"eight\": 8, \"nine\": 9,\n",
    "                                        \"alif\":\"أ\", \"baa\":\"ب\", \"geem\":\"ج\", \"daal\":\"د\", \"raa\":\"ر\", \"seen\":\"س\", \"saad\":\"ص\", \"taa\":\"ط\",\n",
    "                                        \"ein\":\"ع\", \"faa\":\"ف\", \"qaaf\":\"ق\",\"kaaf\":\"ك\", \"laam\":\"ل\", \"meem\":\"م\", \"noon\":\"ن\", \"haa\":\"ه\", \"waaw\":\"و\", \"yaa\":\"ي\"}"
   ]
  },
  {
   "cell_type": "code",
   "execution_count": 91,
   "id": "1ec695a9",
   "metadata": {},
   "outputs": [],
   "source": [
    "def convert_plate_characters(matching_keys):\n",
    "    # Initialize an empty list to store the corresponding values\n",
    "    matching_values = []\n",
    "\n",
    "    # Iterate over the keys in matching_keys\n",
    "    for key in matching_keys:\n",
    "        if key in replace_arabic_characters_and_digits:\n",
    "            value = replace_arabic_characters_and_digits[key]\n",
    "            matching_values.append(value)\n",
    "\n",
    "    # Print the matching values\n",
    "    return matching_values"
   ]
  },
  {
   "cell_type": "code",
   "execution_count": 92,
   "id": "debbafea",
   "metadata": {},
   "outputs": [],
   "source": [
    "def join_digits_and_sort_characters(matching_values):\n",
    "    numbers = ''\n",
    "    characters = ''\n",
    "\n",
    "    for item in matching_values:\n",
    "        if isinstance(item, int):\n",
    "            numbers += str(item)\n",
    "        elif isinstance(item, str):\n",
    "            characters += item\n",
    "            separated_characters = list(characters[::-1])\n",
    "\n",
    "    result_list = [numbers, separated_characters]\n",
    "    return result_list"
   ]
  },
  {
   "cell_type": "code",
   "execution_count": 110,
   "id": "658bd44c",
   "metadata": {},
   "outputs": [],
   "source": [
    "def join_digits_and_sort_characters(matching_values):\n",
    "    numbers = \"\"\n",
    "    characters = \"\"\n",
    "    for item in matching_values:\n",
    "        if item.isdigit():\n",
    "            numbers += item\n",
    "        else:\n",
    "            characters += item\n",
    "    separated_characters = list(characters[::-1])\n",
    "    result_list = [numbers, separated_characters]\n",
    "    return result_list"
   ]
  },
  {
   "cell_type": "code",
   "execution_count": 113,
   "id": "0458f200",
   "metadata": {},
   "outputs": [],
   "source": [
    "def join_digits_and_sort_characters(matching_values):\n",
    "    numbers = \"\"\n",
    "    characters = \"\"\n",
    "    for item in matching_values:\n",
    "        item_str = str(item)  # Convert item to string\n",
    "        if item_str.isdigit():\n",
    "            numbers += item_str\n",
    "        else:\n",
    "            characters += item_str\n",
    "    separated_characters = list(characters[::-1])\n",
    "    result_list = [numbers, separated_characters]\n",
    "    return result_list"
   ]
  },
  {
   "cell_type": "code",
   "execution_count": 93,
   "id": "ff0a906e",
   "metadata": {},
   "outputs": [],
   "source": [
    "# def join_digits_and_sort_characters(matching_values):\n",
    "#     numbers = []\n",
    "#     separated_characters = []  # Initialize to empty list\n",
    "#     for item in matching_values:\n",
    "#         if item.isdigit():\n",
    "#             numbers.append(item)\n",
    "#         else:\n",
    "#             separated_characters += item\n",
    "#     separated_characters = list(separated_characters[::-1])\n",
    "#     result_list = [numbers, separated_characters]\n",
    "#     return result_list"
   ]
  },
  {
   "cell_type": "code",
   "execution_count": 114,
   "id": "ca0c1cd9",
   "metadata": {},
   "outputs": [],
   "source": [
    "def get_governorate(result_list):\n",
    "    replace_first_element = {\"س\": \"الإسكندرية\", \"ر\": \"الشرقية\", \"د\": \"الدقهلية\", \"م\": \"المنوفية\", \"ب\": \"البحيرة\",\n",
    "                             \"ل\": \"كفر الشيخ\", \"ع\": \"الغربية\", \"ق\": \"القليوبية\", \"ف\": \"الفيوم\", \"و\": \"بني سويف\",\n",
    "                             \"ن\": \"المنيا\", \"ي\": \"أسيوط\", \"ه\": \"سوهاج\", \"أ\": \"القاهرة\"}\n",
    "\n",
    "    replace_second_element_if_first_geem = {\"ه\": \"مطروح\", \"ب\": \"الوادي الجديد\"}\n",
    "\n",
    "    replace_second_element_if_first_saad = {\"أ\": \"قنا\", \"ق\": \"الأقصر\", \"و\": \"أسوان\"}\n",
    "\n",
    "    replace_second_element_if_first_taa = {\"س\": \"السويس\", \"ن\": \"الاسماعيلية\",\"ص\": \"الاسماعيلية\", \"ب\": \"بورسعيد\",\"ع\": \"بورسعيد\", \"د\": \"دمياط\",\n",
    "                                           \"أ\": \"شمال سيناء\", \"ج\": \"جنوب سيناء\", \"ر\": \"البحر الأحمر\"}\n",
    "    \n",
    "    if len(result_list[0]) == 6 and len(result_list[1]) == 1:\n",
    "            value = \"شرطة\"\n",
    "    elif len(result_list[1]) >= 2:\n",
    "        first_char = result_list[1][0]\n",
    "        sec_char = result_list[1][1]\n",
    "        if len(result_list[0]) == 3 and len(result_list[1]) == 3:\n",
    "            value = \"القاهرة\"\n",
    "        elif len(result_list[0]) == 4 and len(result_list[1]) == 2:\n",
    "            value = \"الجيزة\"\n",
    "        elif len(result_list[0]) == 4 and len(result_list[1]) == 3:\n",
    "            if first_char == \"ج\":\n",
    "                value = replace_second_element_if_first_geem.get(sec_char, \"أخرى\")\n",
    "            elif first_char == \"ص\":\n",
    "                value = replace_second_element_if_first_saad.get(sec_char, \"أخرى\")\n",
    "            elif first_char == \"ط\":\n",
    "                value = replace_second_element_if_first_taa.get(sec_char, \"أخرى\")\n",
    "            else:\n",
    "                value = replace_first_element.get(first_char, \"أخرى\")\n",
    "        else:\n",
    "            value = \"أخرى\"\n",
    "    else:\n",
    "        value = \"أخرى\"\n",
    "    \n",
    "    return value"
   ]
  },
  {
   "cell_type": "code",
   "execution_count": 115,
   "id": "98cf5d64",
   "metadata": {},
   "outputs": [],
   "source": [
    "def append_governorate_to_result_list(result_list, value):\n",
    "    value = get_governorate(result_list)\n",
    "    result_list.append(value)\n",
    "    return result_list"
   ]
  },
  {
   "cell_type": "code",
   "execution_count": 116,
   "id": "47d586b9",
   "metadata": {},
   "outputs": [],
   "source": [
    "def if_police_car(final_result):\n",
    "    lst = []\n",
    "    prefix = final_result[0][-2:]  # Get the last two digits of the first element\n",
    "    for i in final_result[0][:-2]:\n",
    "        lst.append(i)\n",
    "    final_result = [\"\".join(lst), [prefix + final_result[1][0]], \"شرطة\"]\n",
    "    return final_result"
   ]
  },
  {
   "cell_type": "code",
   "execution_count": 117,
   "id": "eb90fc3e",
   "metadata": {},
   "outputs": [],
   "source": [
    "def check_if_police_car(final_result):\n",
    "    if len(final_result[0]) == 6:\n",
    "        final_result = if_police_car(final_result)\n",
    "        return final_result\n",
    "    else:\n",
    "        return final_result"
   ]
  },
  {
   "cell_type": "code",
   "execution_count": 118,
   "id": "ecee17ca",
   "metadata": {},
   "outputs": [],
   "source": [
    "digits_mapping = {\n",
    "        '1': '١',\n",
    "        '2': '٢',\n",
    "        '3': '٣',\n",
    "        '4': '٤',\n",
    "        '5': '٥',\n",
    "        '6': '٦',\n",
    "        '7': '٧',\n",
    "        '8': '٨',\n",
    "        '9': '٩'\n",
    "        }"
   ]
  },
  {
   "cell_type": "code",
   "execution_count": 119,
   "id": "31f98820",
   "metadata": {},
   "outputs": [],
   "source": [
    "def convert_digits(text):        \n",
    "    converted_text = \"\"\n",
    "    for char in text:\n",
    "        if char.isdigit():\n",
    "            converted_text += digits_mapping[char]\n",
    "        else:\n",
    "            converted_text += char\n",
    "    return converted_text"
   ]
  },
  {
   "cell_type": "code",
   "execution_count": 120,
   "id": "1c99d067",
   "metadata": {},
   "outputs": [],
   "source": [
    "def convert_to_arabic_digits(final_result):\n",
    "    original_list = final_result\n",
    "    converted_list = []\n",
    "    for item in original_list:\n",
    "        if isinstance(item, str):\n",
    "            converted_list.append(convert_digits(item))\n",
    "        else:\n",
    "            converted_list.append([convert_digits(subitem) for subitem in item])\n",
    "    return converted_list"
   ]
  },
  {
   "cell_type": "code",
   "execution_count": 121,
   "id": "ec521602",
   "metadata": {},
   "outputs": [],
   "source": [
    "def swap_elements(final_result):\n",
    "    final_result[0], final_result[1] = final_result[1], final_result[0]\n",
    "    return final_result"
   ]
  },
  {
   "cell_type": "code",
   "execution_count": 122,
   "id": "111e6d31",
   "metadata": {},
   "outputs": [],
   "source": [
    "def check_if_police(final_result, final):\n",
    "    if len(final[0]) == 6:\n",
    "        final_result[0] = [if_police_move_character_to_beginning(final_result, item, 'ب') for item in final_result[0]]\n",
    "        return final_result\n",
    "    else:\n",
    "        return final_result"
   ]
  },
  {
   "cell_type": "code",
   "execution_count": 123,
   "id": "c70fba75",
   "metadata": {},
   "outputs": [],
   "source": [
    "def if_police_move_character_to_beginning(final_result, text, char):\n",
    "    # Remove the character from the original position\n",
    "    text = text.replace(char, '')\n",
    "\n",
    "    # Insert the character at the beginning\n",
    "    text = char + text\n",
    "\n",
    "    return text"
   ]
  },
  {
   "cell_type": "code",
   "execution_count": 144,
   "id": "7c521a51",
   "metadata": {},
   "outputs": [],
   "source": [
    "def return_final_result(exp_path, detection_model, images, cropped_img_dir, saved_img_dir, resized_img_dir):\n",
    "#     apply_detection_model_and_save_results(detection_model, images)\n",
    "    save_cropped_img(cropped_img_dir, saved_img_dir)\n",
    "    resize_img(saved_img_dir, resized_img_dir)\n",
    "    reversed_labels, reversed_boxes, class_names = reverse_labels_and_boxes(resized_img_dir)\n",
    "    model_result = return_model_result(reversed_labels, reversed_boxes, class_names)\n",
    "    matching_keys = return_sorted_plate_characters(reversed_labels, reversed_boxes, class_names, model_result)\n",
    "    matching_values = convert_plate_characters(matching_keys)\n",
    "    result_list = join_digits_and_sort_characters(matching_values)\n",
    "    governorate = get_governorate(result_list)\n",
    "    result = append_governorate_to_result_list(result_list, governorate)\n",
    "    final_result = check_if_police_car(result)\n",
    "    final_result = convert_to_arabic_digits(final_result)\n",
    "    final_result = swap_elements(final_result)\n",
    "    final_result = check_if_police(final_result, result)\n",
    "    return final_result"
   ]
  },
  {
   "cell_type": "code",
   "execution_count": 155,
   "id": "b8532ffa",
   "metadata": {},
   "outputs": [
    {
     "name": "stderr",
     "output_type": "stream",
     "text": [
      "YOLOv5  2023-9-24 Python-3.11.3 torch-2.0.1+cpu CPU\n",
      "\n",
      "Fusing layers... \n",
      "Model summary: 157 layers, 7012822 parameters, 0 gradients, 15.8 GFLOPs\n",
      "Adding AutoShape... \n",
      "Saved 1 image to \u001b[1mruns\\detect\\exp\u001b[0m\n",
      "Saved results to runs\\detect\\exp\n",
      "\n"
     ]
    },
    {
     "name": "stdout",
     "output_type": "stream",
     "text": [
      "image 1/1: 1280x720 1 car-plate\n",
      "Speed: 4.0ms pre-process, 224.8ms inference, 1.1ms NMS per image at shape (1, 3, 640, 384)\n"
     ]
    },
    {
     "name": "stderr",
     "output_type": "stream",
     "text": [
      "YOLOv5  2023-9-24 Python-3.11.3 torch-2.0.1+cpu CPU\n",
      "\n",
      "Fusing layers... \n",
      "Model summary: 157 layers, 7012822 parameters, 0 gradients, 15.8 GFLOPs\n",
      "Adding AutoShape... \n",
      "Saved 1 image to \u001b[1mruns\\detect\\exp2\u001b[0m\n",
      "Saved results to runs\\detect\\exp2\n",
      "\n"
     ]
    },
    {
     "name": "stdout",
     "output_type": "stream",
     "text": [
      "image 1/1: 1280x720 2 car-plates\n",
      "Speed: 5.3ms pre-process, 290.9ms inference, 1.0ms NMS per image at shape (1, 3, 640, 384)\n"
     ]
    },
    {
     "name": "stderr",
     "output_type": "stream",
     "text": [
      "YOLOv5  2023-9-24 Python-3.11.3 torch-2.0.1+cpu CPU\n",
      "\n",
      "Fusing layers... \n",
      "Model summary: 157 layers, 7012822 parameters, 0 gradients, 15.8 GFLOPs\n",
      "Adding AutoShape... \n",
      "Saved 1 image to \u001b[1mruns\\detect\\exp3\u001b[0m\n",
      "Saved results to runs\\detect\\exp3\n",
      "\n"
     ]
    },
    {
     "name": "stdout",
     "output_type": "stream",
     "text": [
      "image 1/1: 1280x720 2 car-plates\n",
      "Speed: 6.4ms pre-process, 245.5ms inference, 0.0ms NMS per image at shape (1, 3, 640, 384)\n"
     ]
    },
    {
     "name": "stderr",
     "output_type": "stream",
     "text": [
      "YOLOv5  2023-9-24 Python-3.11.3 torch-2.0.1+cpu CPU\n",
      "\n",
      "Fusing layers... \n",
      "Model summary: 157 layers, 7012822 parameters, 0 gradients, 15.8 GFLOPs\n",
      "Adding AutoShape... \n",
      "Saved 1 image to \u001b[1mruns\\detect\\exp4\u001b[0m\n",
      "Saved results to runs\\detect\\exp4\n",
      "\n"
     ]
    },
    {
     "name": "stdout",
     "output_type": "stream",
     "text": [
      "image 1/1: 1280x720 2 car-plates\n",
      "Speed: 5.0ms pre-process, 229.3ms inference, 125.0ms NMS per image at shape (1, 3, 640, 384)\n"
     ]
    },
    {
     "name": "stderr",
     "output_type": "stream",
     "text": [
      "YOLOv5  2023-9-24 Python-3.11.3 torch-2.0.1+cpu CPU\n",
      "\n",
      "Fusing layers... \n",
      "Model summary: 157 layers, 7012822 parameters, 0 gradients, 15.8 GFLOPs\n",
      "Adding AutoShape... \n",
      "Saved 1 image to \u001b[1mruns\\detect\\exp5\u001b[0m\n",
      "Saved results to runs\\detect\\exp5\n",
      "\n"
     ]
    },
    {
     "name": "stdout",
     "output_type": "stream",
     "text": [
      "image 1/1: 1280x720 2 car-plates\n",
      "Speed: 6.0ms pre-process, 241.8ms inference, 15.6ms NMS per image at shape (1, 3, 640, 384)\n"
     ]
    },
    {
     "name": "stderr",
     "output_type": "stream",
     "text": [
      "YOLOv5  2023-9-24 Python-3.11.3 torch-2.0.1+cpu CPU\n",
      "\n",
      "Fusing layers... \n",
      "Model summary: 157 layers, 7012822 parameters, 0 gradients, 15.8 GFLOPs\n",
      "Adding AutoShape... \n",
      "Saved 1 image to \u001b[1mruns\\detect\\exp6\u001b[0m\n",
      "Saved results to runs\\detect\\exp6\n",
      "\n"
     ]
    },
    {
     "name": "stdout",
     "output_type": "stream",
     "text": [
      "image 1/1: 1280x720 2 car-plates\n",
      "Speed: 15.6ms pre-process, 203.1ms inference, 15.6ms NMS per image at shape (1, 3, 640, 384)\n"
     ]
    },
    {
     "name": "stderr",
     "output_type": "stream",
     "text": [
      "YOLOv5  2023-9-24 Python-3.11.3 torch-2.0.1+cpu CPU\n",
      "\n",
      "Fusing layers... \n",
      "Model summary: 157 layers, 7012822 parameters, 0 gradients, 15.8 GFLOPs\n",
      "Adding AutoShape... \n",
      "Saved 1 image to \u001b[1mruns\\detect\\exp7\u001b[0m\n",
      "Saved results to runs\\detect\\exp7\n",
      "\n"
     ]
    },
    {
     "name": "stdout",
     "output_type": "stream",
     "text": [
      "image 1/1: 1280x720 1 car-plate\n",
      "Speed: 0.0ms pre-process, 218.7ms inference, 0.0ms NMS per image at shape (1, 3, 640, 384)\n"
     ]
    },
    {
     "name": "stderr",
     "output_type": "stream",
     "text": [
      "YOLOv5  2023-9-24 Python-3.11.3 torch-2.0.1+cpu CPU\n",
      "\n",
      "Fusing layers... \n",
      "Model summary: 157 layers, 7012822 parameters, 0 gradients, 15.8 GFLOPs\n",
      "Adding AutoShape... \n",
      "Saved 1 image to \u001b[1mruns\\detect\\exp8\u001b[0m\n",
      "Saved results to runs\\detect\\exp8\n",
      "\n"
     ]
    },
    {
     "name": "stdout",
     "output_type": "stream",
     "text": [
      "image 1/1: 1280x720 1 car-plate\n",
      "Speed: 15.6ms pre-process, 359.4ms inference, 0.0ms NMS per image at shape (1, 3, 640, 384)\n"
     ]
    },
    {
     "name": "stderr",
     "output_type": "stream",
     "text": [
      "YOLOv5  2023-9-24 Python-3.11.3 torch-2.0.1+cpu CPU\n",
      "\n",
      "Fusing layers... \n",
      "Model summary: 157 layers, 7012822 parameters, 0 gradients, 15.8 GFLOPs\n",
      "Adding AutoShape... \n",
      "Saved 1 image to \u001b[1mruns\\detect\\exp9\u001b[0m\n",
      "Saved results to runs\\detect\\exp9\n",
      "\n"
     ]
    },
    {
     "name": "stdout",
     "output_type": "stream",
     "text": [
      "image 1/1: 1280x720 1 car-plate\n",
      "Speed: 15.6ms pre-process, 234.4ms inference, 15.6ms NMS per image at shape (1, 3, 640, 384)\n"
     ]
    },
    {
     "name": "stderr",
     "output_type": "stream",
     "text": [
      "YOLOv5  2023-9-24 Python-3.11.3 torch-2.0.1+cpu CPU\n",
      "\n",
      "Fusing layers... \n",
      "Model summary: 157 layers, 7012822 parameters, 0 gradients, 15.8 GFLOPs\n",
      "Adding AutoShape... \n",
      "Saved 1 image to \u001b[1mruns\\detect\\exp10\u001b[0m\n",
      "Saved results to runs\\detect\\exp10\n",
      "\n"
     ]
    },
    {
     "name": "stdout",
     "output_type": "stream",
     "text": [
      "image 1/1: 1280x720 1 car-plate\n",
      "Speed: 0.0ms pre-process, 218.7ms inference, 0.0ms NMS per image at shape (1, 3, 640, 384)\n"
     ]
    },
    {
     "name": "stderr",
     "output_type": "stream",
     "text": [
      "YOLOv5  2023-9-24 Python-3.11.3 torch-2.0.1+cpu CPU\n",
      "\n",
      "Fusing layers... \n",
      "Model summary: 157 layers, 7012822 parameters, 0 gradients, 15.8 GFLOPs\n",
      "Adding AutoShape... \n",
      "Saved 1 image to \u001b[1mruns\\detect\\exp11\u001b[0m\n",
      "Saved results to runs\\detect\\exp11\n",
      "\n"
     ]
    },
    {
     "name": "stdout",
     "output_type": "stream",
     "text": [
      "image 1/1: 1280x720 (no detections)\n",
      "Speed: 15.6ms pre-process, 250.0ms inference, 0.0ms NMS per image at shape (1, 3, 640, 384)\n"
     ]
    },
    {
     "name": "stderr",
     "output_type": "stream",
     "text": [
      "YOLOv5  2023-9-24 Python-3.11.3 torch-2.0.1+cpu CPU\n",
      "\n",
      "Fusing layers... \n",
      "Model summary: 157 layers, 7012822 parameters, 0 gradients, 15.8 GFLOPs\n",
      "Adding AutoShape... \n",
      "Saved 1 image to \u001b[1mruns\\detect\\exp12\u001b[0m\n",
      "Saved results to runs\\detect\\exp12\n",
      "\n"
     ]
    },
    {
     "name": "stdout",
     "output_type": "stream",
     "text": [
      "image 1/1: 1280x720 1 car-plate\n",
      "Speed: 0.0ms pre-process, 265.6ms inference, 0.0ms NMS per image at shape (1, 3, 640, 384)\n"
     ]
    },
    {
     "name": "stderr",
     "output_type": "stream",
     "text": [
      "YOLOv5  2023-9-24 Python-3.11.3 torch-2.0.1+cpu CPU\n",
      "\n",
      "Fusing layers... \n",
      "Model summary: 157 layers, 7012822 parameters, 0 gradients, 15.8 GFLOPs\n",
      "Adding AutoShape... \n",
      "Saved 1 image to \u001b[1mruns\\detect\\exp13\u001b[0m\n",
      "Saved results to runs\\detect\\exp13\n",
      "\n"
     ]
    },
    {
     "name": "stdout",
     "output_type": "stream",
     "text": [
      "image 1/1: 1280x720 1 car-plate\n",
      "Speed: 15.6ms pre-process, 234.4ms inference, 0.0ms NMS per image at shape (1, 3, 640, 384)\n"
     ]
    },
    {
     "name": "stderr",
     "output_type": "stream",
     "text": [
      "YOLOv5  2023-9-24 Python-3.11.3 torch-2.0.1+cpu CPU\n",
      "\n",
      "Fusing layers... \n",
      "Model summary: 157 layers, 7012822 parameters, 0 gradients, 15.8 GFLOPs\n",
      "Adding AutoShape... \n",
      "Saved 1 image to \u001b[1mruns\\detect\\exp14\u001b[0m\n",
      "Saved results to runs\\detect\\exp14\n",
      "\n"
     ]
    },
    {
     "name": "stdout",
     "output_type": "stream",
     "text": [
      "image 1/1: 1280x720 2 car-plates\n",
      "Speed: 15.6ms pre-process, 225.4ms inference, 1.0ms NMS per image at shape (1, 3, 640, 384)\n"
     ]
    },
    {
     "name": "stderr",
     "output_type": "stream",
     "text": [
      "YOLOv5  2023-9-24 Python-3.11.3 torch-2.0.1+cpu CPU\n",
      "\n",
      "Fusing layers... \n",
      "Model summary: 157 layers, 7012822 parameters, 0 gradients, 15.8 GFLOPs\n",
      "Adding AutoShape... \n",
      "Saved 1 image to \u001b[1mruns\\detect\\exp15\u001b[0m\n",
      "Saved results to runs\\detect\\exp15\n",
      "\n"
     ]
    },
    {
     "name": "stdout",
     "output_type": "stream",
     "text": [
      "image 1/1: 1280x720 2 car-plates\n",
      "Speed: 4.0ms pre-process, 221.9ms inference, 1.0ms NMS per image at shape (1, 3, 640, 384)\n"
     ]
    },
    {
     "name": "stderr",
     "output_type": "stream",
     "text": [
      "YOLOv5  2023-9-24 Python-3.11.3 torch-2.0.1+cpu CPU\n",
      "\n",
      "Fusing layers... \n",
      "Model summary: 157 layers, 7012822 parameters, 0 gradients, 15.8 GFLOPs\n",
      "Adding AutoShape... \n",
      "Saved 1 image to \u001b[1mruns\\detect\\exp16\u001b[0m\n",
      "Saved results to runs\\detect\\exp16\n",
      "\n"
     ]
    },
    {
     "name": "stdout",
     "output_type": "stream",
     "text": [
      "image 1/1: 1280x720 1 car-plate\n",
      "Speed: 0.0ms pre-process, 218.7ms inference, 0.0ms NMS per image at shape (1, 3, 640, 384)\n"
     ]
    },
    {
     "name": "stderr",
     "output_type": "stream",
     "text": [
      "YOLOv5  2023-9-24 Python-3.11.3 torch-2.0.1+cpu CPU\n",
      "\n",
      "Fusing layers... \n",
      "Model summary: 157 layers, 7012822 parameters, 0 gradients, 15.8 GFLOPs\n",
      "Adding AutoShape... \n",
      "Saved 1 image to \u001b[1mruns\\detect\\exp17\u001b[0m\n",
      "Saved results to runs\\detect\\exp17\n",
      "\n"
     ]
    },
    {
     "name": "stdout",
     "output_type": "stream",
     "text": [
      "image 1/1: 1280x720 1 car-plate\n",
      "Speed: 15.6ms pre-process, 203.1ms inference, 15.6ms NMS per image at shape (1, 3, 640, 384)\n"
     ]
    },
    {
     "name": "stderr",
     "output_type": "stream",
     "text": [
      "YOLOv5  2023-9-24 Python-3.11.3 torch-2.0.1+cpu CPU\n",
      "\n",
      "Fusing layers... \n",
      "Model summary: 157 layers, 7012822 parameters, 0 gradients, 15.8 GFLOPs\n",
      "Adding AutoShape... \n",
      "Saved 1 image to \u001b[1mruns\\detect\\exp18\u001b[0m\n",
      "Saved results to runs\\detect\\exp18\n",
      "\n"
     ]
    },
    {
     "name": "stdout",
     "output_type": "stream",
     "text": [
      "image 1/1: 1280x720 (no detections)\n",
      "Speed: 0.0ms pre-process, 218.7ms inference, 0.0ms NMS per image at shape (1, 3, 640, 384)\n"
     ]
    },
    {
     "name": "stderr",
     "output_type": "stream",
     "text": [
      "YOLOv5  2023-9-24 Python-3.11.3 torch-2.0.1+cpu CPU\n",
      "\n",
      "Fusing layers... \n",
      "Model summary: 157 layers, 7012822 parameters, 0 gradients, 15.8 GFLOPs\n",
      "Adding AutoShape... \n",
      "Saved 1 image to \u001b[1mruns\\detect\\exp19\u001b[0m\n",
      "Saved results to runs\\detect\\exp19\n",
      "\n"
     ]
    },
    {
     "name": "stdout",
     "output_type": "stream",
     "text": [
      "image 1/1: 1280x720 3 car-plates\n",
      "Speed: 15.6ms pre-process, 203.1ms inference, 0.0ms NMS per image at shape (1, 3, 640, 384)\n"
     ]
    },
    {
     "name": "stderr",
     "output_type": "stream",
     "text": [
      "YOLOv5  2023-9-24 Python-3.11.3 torch-2.0.1+cpu CPU\n",
      "\n",
      "Fusing layers... \n",
      "Model summary: 157 layers, 7012822 parameters, 0 gradients, 15.8 GFLOPs\n",
      "Adding AutoShape... \n",
      "Saved 1 image to \u001b[1mruns\\detect\\exp20\u001b[0m\n",
      "Saved results to runs\\detect\\exp20\n",
      "\n"
     ]
    },
    {
     "name": "stdout",
     "output_type": "stream",
     "text": [
      "image 1/1: 1280x720 1 car-plate\n",
      "Speed: 15.6ms pre-process, 250.0ms inference, 0.0ms NMS per image at shape (1, 3, 640, 384)\n"
     ]
    },
    {
     "name": "stderr",
     "output_type": "stream",
     "text": [
      "YOLOv5  2023-9-24 Python-3.11.3 torch-2.0.1+cpu CPU\n",
      "\n",
      "Fusing layers... \n",
      "Model summary: 157 layers, 7012822 parameters, 0 gradients, 15.8 GFLOPs\n",
      "Adding AutoShape... \n",
      "Saved 1 image to \u001b[1mruns\\detect\\exp21\u001b[0m\n",
      "Saved results to runs\\detect\\exp21\n",
      "\n"
     ]
    },
    {
     "name": "stdout",
     "output_type": "stream",
     "text": [
      "image 1/1: 1280x720 1 car-plate\n",
      "Speed: 0.0ms pre-process, 203.1ms inference, 0.0ms NMS per image at shape (1, 3, 640, 384)\n"
     ]
    },
    {
     "name": "stderr",
     "output_type": "stream",
     "text": [
      "YOLOv5  2023-9-24 Python-3.11.3 torch-2.0.1+cpu CPU\n",
      "\n",
      "Fusing layers... \n",
      "Model summary: 157 layers, 7012822 parameters, 0 gradients, 15.8 GFLOPs\n",
      "Adding AutoShape... \n",
      "Saved 1 image to \u001b[1mruns\\detect\\exp22\u001b[0m\n",
      "Saved results to runs\\detect\\exp22\n",
      "\n"
     ]
    },
    {
     "name": "stdout",
     "output_type": "stream",
     "text": [
      "image 1/1: 1280x720 1 car-plate\n",
      "Speed: 9.0ms pre-process, 1689.6ms inference, 578.1ms NMS per image at shape (1, 3, 640, 384)\n"
     ]
    },
    {
     "name": "stderr",
     "output_type": "stream",
     "text": [
      "YOLOv5  2023-9-24 Python-3.11.3 torch-2.0.1+cpu CPU\n",
      "\n",
      "Fusing layers... \n",
      "Model summary: 157 layers, 7012822 parameters, 0 gradients, 15.8 GFLOPs\n",
      "Adding AutoShape... \n",
      "Saved 1 image to \u001b[1mruns\\detect\\exp23\u001b[0m\n",
      "Saved results to runs\\detect\\exp23\n",
      "\n"
     ]
    },
    {
     "name": "stdout",
     "output_type": "stream",
     "text": [
      "image 1/1: 1280x720 1 car-plate\n",
      "Speed: 154.8ms pre-process, 251.1ms inference, 0.0ms NMS per image at shape (1, 3, 640, 384)\n"
     ]
    },
    {
     "name": "stderr",
     "output_type": "stream",
     "text": [
      "YOLOv5  2023-9-24 Python-3.11.3 torch-2.0.1+cpu CPU\n",
      "\n",
      "Fusing layers... \n",
      "Model summary: 157 layers, 7012822 parameters, 0 gradients, 15.8 GFLOPs\n",
      "Adding AutoShape... \n",
      "Saved 1 image to \u001b[1mruns\\detect\\exp24\u001b[0m\n",
      "Saved results to runs\\detect\\exp24\n",
      "\n"
     ]
    },
    {
     "name": "stdout",
     "output_type": "stream",
     "text": [
      "image 1/1: 1280x720 2 car-plates\n",
      "Speed: 0.0ms pre-process, 234.4ms inference, 62.5ms NMS per image at shape (1, 3, 640, 384)\n"
     ]
    },
    {
     "name": "stderr",
     "output_type": "stream",
     "text": [
      "YOLOv5  2023-9-24 Python-3.11.3 torch-2.0.1+cpu CPU\n",
      "\n",
      "Fusing layers... \n",
      "Model summary: 157 layers, 7012822 parameters, 0 gradients, 15.8 GFLOPs\n",
      "Adding AutoShape... \n",
      "Saved 1 image to \u001b[1mruns\\detect\\exp25\u001b[0m\n",
      "Saved results to runs\\detect\\exp25\n",
      "\n"
     ]
    },
    {
     "name": "stdout",
     "output_type": "stream",
     "text": [
      "image 1/1: 1280x720 1 car-plate\n",
      "Speed: 0.0ms pre-process, 234.4ms inference, 0.0ms NMS per image at shape (1, 3, 640, 384)\n"
     ]
    },
    {
     "name": "stderr",
     "output_type": "stream",
     "text": [
      "YOLOv5  2023-9-24 Python-3.11.3 torch-2.0.1+cpu CPU\n",
      "\n",
      "Fusing layers... \n",
      "Model summary: 157 layers, 7012822 parameters, 0 gradients, 15.8 GFLOPs\n",
      "Adding AutoShape... \n",
      "Saved 1 image to \u001b[1mruns\\detect\\exp26\u001b[0m\n",
      "Saved results to runs\\detect\\exp26\n",
      "\n"
     ]
    },
    {
     "name": "stdout",
     "output_type": "stream",
     "text": [
      "image 1/1: 1280x720 2 car-plates\n",
      "Speed: 9.1ms pre-process, 237.5ms inference, 0.0ms NMS per image at shape (1, 3, 640, 384)\n"
     ]
    },
    {
     "name": "stderr",
     "output_type": "stream",
     "text": [
      "YOLOv5  2023-9-24 Python-3.11.3 torch-2.0.1+cpu CPU\n",
      "\n",
      "Fusing layers... \n",
      "Model summary: 157 layers, 7012822 parameters, 0 gradients, 15.8 GFLOPs\n",
      "Adding AutoShape... \n",
      "Saved 1 image to \u001b[1mruns\\detect\\exp27\u001b[0m\n",
      "Saved results to runs\\detect\\exp27\n",
      "\n"
     ]
    },
    {
     "name": "stdout",
     "output_type": "stream",
     "text": [
      "image 1/1: 1280x720 (no detections)\n",
      "Speed: 0.0ms pre-process, 311.9ms inference, 0.0ms NMS per image at shape (1, 3, 640, 384)\n"
     ]
    },
    {
     "name": "stderr",
     "output_type": "stream",
     "text": [
      "YOLOv5  2023-9-24 Python-3.11.3 torch-2.0.1+cpu CPU\n",
      "\n",
      "Fusing layers... \n",
      "Model summary: 157 layers, 7012822 parameters, 0 gradients, 15.8 GFLOPs\n",
      "Adding AutoShape... \n",
      "Saved 1 image to \u001b[1mruns\\detect\\exp28\u001b[0m\n",
      "Saved results to runs\\detect\\exp28\n",
      "\n"
     ]
    },
    {
     "name": "stdout",
     "output_type": "stream",
     "text": [
      "image 1/1: 1280x720 (no detections)\n",
      "Speed: 6.0ms pre-process, 294.6ms inference, 1.0ms NMS per image at shape (1, 3, 640, 384)\n"
     ]
    },
    {
     "name": "stderr",
     "output_type": "stream",
     "text": [
      "YOLOv5  2023-9-24 Python-3.11.3 torch-2.0.1+cpu CPU\n",
      "\n",
      "Fusing layers... \n",
      "Model summary: 157 layers, 7012822 parameters, 0 gradients, 15.8 GFLOPs\n",
      "Adding AutoShape... \n",
      "Saved 1 image to \u001b[1mruns\\detect\\exp29\u001b[0m\n",
      "Saved results to runs\\detect\\exp29\n",
      "\n"
     ]
    },
    {
     "name": "stdout",
     "output_type": "stream",
     "text": [
      "image 1/1: 1280x720 (no detections)\n",
      "Speed: 15.6ms pre-process, 296.9ms inference, 0.0ms NMS per image at shape (1, 3, 640, 384)\n"
     ]
    },
    {
     "name": "stderr",
     "output_type": "stream",
     "text": [
      "YOLOv5  2023-9-24 Python-3.11.3 torch-2.0.1+cpu CPU\n",
      "\n",
      "Fusing layers... \n",
      "Model summary: 157 layers, 7012822 parameters, 0 gradients, 15.8 GFLOPs\n",
      "Adding AutoShape... \n",
      "Saved 1 image to \u001b[1mruns\\detect\\exp30\u001b[0m\n",
      "Saved results to runs\\detect\\exp30\n",
      "\n"
     ]
    },
    {
     "name": "stdout",
     "output_type": "stream",
     "text": [
      "image 1/1: 1280x720 1 car-plate\n",
      "Speed: 15.6ms pre-process, 203.1ms inference, 0.0ms NMS per image at shape (1, 3, 640, 384)\n"
     ]
    },
    {
     "name": "stderr",
     "output_type": "stream",
     "text": [
      "YOLOv5  2023-9-24 Python-3.11.3 torch-2.0.1+cpu CPU\n",
      "\n",
      "Fusing layers... \n",
      "Model summary: 157 layers, 7012822 parameters, 0 gradients, 15.8 GFLOPs\n",
      "Adding AutoShape... \n",
      "Saved 1 image to \u001b[1mruns\\detect\\exp31\u001b[0m\n",
      "Saved results to runs\\detect\\exp31\n",
      "\n"
     ]
    },
    {
     "name": "stdout",
     "output_type": "stream",
     "text": [
      "image 1/1: 1280x720 1 car-plate\n",
      "Speed: 31.2ms pre-process, 203.1ms inference, 0.0ms NMS per image at shape (1, 3, 640, 384)\n"
     ]
    },
    {
     "name": "stderr",
     "output_type": "stream",
     "text": [
      "YOLOv5  2023-9-24 Python-3.11.3 torch-2.0.1+cpu CPU\n",
      "\n",
      "Fusing layers... \n",
      "Model summary: 157 layers, 7012822 parameters, 0 gradients, 15.8 GFLOPs\n",
      "Adding AutoShape... \n",
      "Saved 1 image to \u001b[1mruns\\detect\\exp32\u001b[0m\n",
      "Saved results to runs\\detect\\exp32\n",
      "\n"
     ]
    },
    {
     "name": "stdout",
     "output_type": "stream",
     "text": [
      "image 1/1: 1280x720 2 car-plates\n",
      "Speed: 15.6ms pre-process, 218.7ms inference, 0.0ms NMS per image at shape (1, 3, 640, 384)\n"
     ]
    },
    {
     "name": "stderr",
     "output_type": "stream",
     "text": [
      "YOLOv5  2023-9-24 Python-3.11.3 torch-2.0.1+cpu CPU\n",
      "\n",
      "Fusing layers... \n",
      "Model summary: 157 layers, 7012822 parameters, 0 gradients, 15.8 GFLOPs\n",
      "Adding AutoShape... \n",
      "Saved 1 image to \u001b[1mruns\\detect\\exp33\u001b[0m\n",
      "Saved results to runs\\detect\\exp33\n",
      "\n"
     ]
    },
    {
     "name": "stdout",
     "output_type": "stream",
     "text": [
      "image 1/1: 1280x720 1 car-plate\n",
      "Speed: 0.0ms pre-process, 203.1ms inference, 15.6ms NMS per image at shape (1, 3, 640, 384)\n"
     ]
    },
    {
     "name": "stderr",
     "output_type": "stream",
     "text": [
      "YOLOv5  2023-9-24 Python-3.11.3 torch-2.0.1+cpu CPU\n",
      "\n",
      "Fusing layers... \n",
      "Model summary: 157 layers, 7012822 parameters, 0 gradients, 15.8 GFLOPs\n",
      "Adding AutoShape... \n",
      "Saved 1 image to \u001b[1mruns\\detect\\exp34\u001b[0m\n",
      "Saved results to runs\\detect\\exp34\n",
      "\n"
     ]
    },
    {
     "name": "stdout",
     "output_type": "stream",
     "text": [
      "image 1/1: 1280x720 1 car-plate\n",
      "Speed: 6.1ms pre-process, 245.4ms inference, 1.0ms NMS per image at shape (1, 3, 640, 384)\n"
     ]
    },
    {
     "name": "stderr",
     "output_type": "stream",
     "text": [
      "YOLOv5  2023-9-24 Python-3.11.3 torch-2.0.1+cpu CPU\n",
      "\n",
      "Fusing layers... \n",
      "Model summary: 157 layers, 7012822 parameters, 0 gradients, 15.8 GFLOPs\n",
      "Adding AutoShape... \n",
      "Saved 1 image to \u001b[1mruns\\detect\\exp35\u001b[0m\n",
      "Saved results to runs\\detect\\exp35\n",
      "\n"
     ]
    },
    {
     "name": "stdout",
     "output_type": "stream",
     "text": [
      "image 1/1: 1280x720 1 car-plate\n",
      "Speed: 0.0ms pre-process, 342.7ms inference, 0.0ms NMS per image at shape (1, 3, 640, 384)\n"
     ]
    },
    {
     "name": "stderr",
     "output_type": "stream",
     "text": [
      "YOLOv5  2023-9-24 Python-3.11.3 torch-2.0.1+cpu CPU\n",
      "\n",
      "Fusing layers... \n",
      "Model summary: 157 layers, 7012822 parameters, 0 gradients, 15.8 GFLOPs\n",
      "Adding AutoShape... \n",
      "Saved 1 image to \u001b[1mruns\\detect\\exp36\u001b[0m\n",
      "Saved results to runs\\detect\\exp36\n",
      "\n"
     ]
    },
    {
     "name": "stdout",
     "output_type": "stream",
     "text": [
      "image 1/1: 1280x720 1 car-plate\n",
      "Speed: 0.0ms pre-process, 203.1ms inference, 0.0ms NMS per image at shape (1, 3, 640, 384)\n"
     ]
    },
    {
     "name": "stderr",
     "output_type": "stream",
     "text": [
      "YOLOv5  2023-9-24 Python-3.11.3 torch-2.0.1+cpu CPU\n",
      "\n",
      "Fusing layers... \n",
      "Model summary: 157 layers, 7012822 parameters, 0 gradients, 15.8 GFLOPs\n",
      "Adding AutoShape... \n",
      "Saved 1 image to \u001b[1mruns\\detect\\exp37\u001b[0m\n",
      "Saved results to runs\\detect\\exp37\n",
      "\n"
     ]
    },
    {
     "name": "stdout",
     "output_type": "stream",
     "text": [
      "image 1/1: 1280x720 1 car-plate\n",
      "Speed: 0.0ms pre-process, 187.5ms inference, 15.6ms NMS per image at shape (1, 3, 640, 384)\n"
     ]
    },
    {
     "name": "stderr",
     "output_type": "stream",
     "text": [
      "YOLOv5  2023-9-24 Python-3.11.3 torch-2.0.1+cpu CPU\n",
      "\n",
      "Fusing layers... \n",
      "Model summary: 157 layers, 7012822 parameters, 0 gradients, 15.8 GFLOPs\n",
      "Adding AutoShape... \n",
      "Saved 1 image to \u001b[1mruns\\detect\\exp38\u001b[0m\n",
      "Saved results to runs\\detect\\exp38\n",
      "\n"
     ]
    },
    {
     "name": "stdout",
     "output_type": "stream",
     "text": [
      "image 1/1: 1280x720 1 car-plate\n",
      "Speed: 15.6ms pre-process, 250.0ms inference, 0.0ms NMS per image at shape (1, 3, 640, 384)\n"
     ]
    }
   ],
   "source": [
    "# Define the path to the input video file\n",
    "video_path = r\"F:/egyptian car plates dataset/EALPR Vechicles dataset/plates models/detection_model/model3/14.mp4\"\n",
    "\n",
    "# Define the output directory for saving the frames\n",
    "output_dir = r\"F:\\egyptian car plates dataset\\EALPR Vechicles dataset\\plates models\\detection_model\\model3\\saved_frames3\"\n",
    "os.makedirs(output_dir, exist_ok=True)\n",
    "\n",
    "# Initialize the video capture object\n",
    "cap = cv2.VideoCapture(video_path)\n",
    "\n",
    "# Initialize variables for frame extraction\n",
    "frame_count = 0\n",
    "frame_rate = 1  # Extract a frame every second\n",
    "\n",
    "# Loop through the frames of the video and extract frames at the specified frame rate\n",
    "while True:\n",
    "    ret, frame = cap.read()\n",
    "    if not ret:\n",
    "        break\n",
    "\n",
    "    # Check if it's time to extract a frame\n",
    "    if frame_count % int(cap.get(cv2.CAP_PROP_FPS)) == 0:\n",
    "        # Save the frame as an image in the output directory\n",
    "        cv2.imwrite(os.path.join(output_dir, f\"frame{frame_count}.jpg\"), frame)\n",
    "        results = perform_object_detection(frame)\n",
    "        print(results)\n",
    "\n",
    "    # Increment the frame count\n",
    "    frame_count += 1\n",
    "\n",
    "    # Set the video capture object to the next frame at the specified frame rate\n",
    "    cap.set(cv2.CAP_PROP_POS_FRAMES, frame_count * frame_rate)\n",
    "\n",
    "# Release the video capture object\n",
    "cap.release()"
   ]
  },
  {
   "cell_type": "code",
   "execution_count": 149,
   "id": "d1f6afd5",
   "metadata": {
    "scrolled": false
   },
   "outputs": [
    {
     "ename": "KeyboardInterrupt",
     "evalue": "",
     "output_type": "error",
     "traceback": [
      "\u001b[1;31m---------------------------------------------------------------------------\u001b[0m",
      "\u001b[1;31mKeyboardInterrupt\u001b[0m                         Traceback (most recent call last)",
      "Cell \u001b[1;32mIn[149], line 31\u001b[0m\n\u001b[0;32m     28\u001b[0m \u001b[38;5;66;03m# Check if it's time to extract a frame\u001b[39;00m\n\u001b[0;32m     29\u001b[0m \u001b[38;5;28;01mif\u001b[39;00m frame_count \u001b[38;5;241m%\u001b[39m \u001b[38;5;28mint\u001b[39m(cap\u001b[38;5;241m.\u001b[39mget(cv2\u001b[38;5;241m.\u001b[39mCAP_PROP_FPS)) \u001b[38;5;241m==\u001b[39m \u001b[38;5;241m0\u001b[39m:\n\u001b[0;32m     30\u001b[0m     \u001b[38;5;66;03m# Increment the frame count\u001b[39;00m\n\u001b[1;32m---> 31\u001b[0m     cv2\u001b[38;5;241m.\u001b[39mimwrite(os\u001b[38;5;241m.\u001b[39mpath\u001b[38;5;241m.\u001b[39mjoin(output_dir, \u001b[38;5;124mf\u001b[39m\u001b[38;5;124m\"\u001b[39m\u001b[38;5;124mframe\u001b[39m\u001b[38;5;132;01m{\u001b[39;00mframe_count\u001b[38;5;132;01m}\u001b[39;00m\u001b[38;5;124m.jpg\u001b[39m\u001b[38;5;124m\"\u001b[39m), frame)\n\u001b[0;32m     32\u001b[0m     output \u001b[38;5;241m=\u001b[39m delete_image()\n\u001b[0;32m     33\u001b[0m     \u001b[38;5;28;01mif\u001b[39;00m output \u001b[38;5;241m!=\u001b[39m \u001b[38;5;124m\"\u001b[39m\u001b[38;5;124merror\u001b[39m\u001b[38;5;124m\"\u001b[39m:\n\u001b[0;32m     34\u001b[0m         \u001b[38;5;66;03m# Perform object detection on the frame using YOLOv5\u001b[39;00m\n\u001b[0;32m     35\u001b[0m         \u001b[38;5;66;03m# save_cropped_img(cropped_img_dir, saved_img_dir)\u001b[39;00m\n\u001b[0;32m     36\u001b[0m         \u001b[38;5;66;03m# delete_folder_or_file(exp_path)\u001b[39;00m\n\u001b[0;32m     37\u001b[0m         \u001b[38;5;66;03m# Save the frame as an image in the output directory\u001b[39;00m\n",
      "File \u001b[1;32m~\\anaconda3\\Lib\\site-packages\\ultralytics\\utils\\patches.py:41\u001b[0m, in \u001b[0;36mimwrite\u001b[1;34m(filename, img, params)\u001b[0m\n\u001b[0;32m     30\u001b[0m \u001b[38;5;250m\u001b[39m\u001b[38;5;124;03m\"\"\"Write an image to a file.\u001b[39;00m\n\u001b[0;32m     31\u001b[0m \n\u001b[0;32m     32\u001b[0m \u001b[38;5;124;03mArgs:\u001b[39;00m\n\u001b[1;32m   (...)\u001b[0m\n\u001b[0;32m     38\u001b[0m \u001b[38;5;124;03m    (bool): True if the file was written, False otherwise.\u001b[39;00m\n\u001b[0;32m     39\u001b[0m \u001b[38;5;124;03m\"\"\"\u001b[39;00m\n\u001b[0;32m     40\u001b[0m \u001b[38;5;28;01mtry\u001b[39;00m:\n\u001b[1;32m---> 41\u001b[0m     cv2\u001b[38;5;241m.\u001b[39mimencode(Path(filename)\u001b[38;5;241m.\u001b[39msuffix, img, params)[\u001b[38;5;241m1\u001b[39m]\u001b[38;5;241m.\u001b[39mtofile(filename)\n\u001b[0;32m     42\u001b[0m     \u001b[38;5;28;01mreturn\u001b[39;00m \u001b[38;5;28;01mTrue\u001b[39;00m\n\u001b[0;32m     43\u001b[0m \u001b[38;5;28;01mexcept\u001b[39;00m \u001b[38;5;167;01mException\u001b[39;00m:\n",
      "\u001b[1;31mKeyboardInterrupt\u001b[0m: "
     ]
    }
   ],
   "source": [
    "lst = []\n",
    "# Define the path to the input video file\n",
    "video_path = r\"F:/egyptian car plates dataset/EALPR Vechicles dataset/plates models/detection_model/model3/1.mp4\"\n",
    "\n",
    "# Define the output directory for saving the frames\n",
    "output_dir = r\"F:\\egyptian car plates dataset\\EALPR Vechicles dataset\\plates models\\detection_model\\model3\\saved_frames3\"\n",
    "os.makedirs(output_dir, exist_ok=True)\n",
    "\n",
    "# Define the path to the YOLOv5 model\n",
    "# model_path = r\"path/to/yolov5/model.pt\"\n",
    "\n",
    "# Load the YOLOv5 model\n",
    "# model = torch.hub.load('ultralytics/yolov5', 'custom', path=model_path)\n",
    "\n",
    "# Initialize the video capture object\n",
    "cap = cv2.VideoCapture(video_path)\n",
    "\n",
    "# Initialize variables for frame extraction\n",
    "frame_count = 0\n",
    "frame_rate = 1  # Extract a frame every second\n",
    "\n",
    "# Loop through the frames of the video and extract frames at the specified frame rate\n",
    "while True:\n",
    "    ret, frame = cap.read()\n",
    "    if not ret:\n",
    "        break\n",
    "\n",
    "    # Check if it's time to extract a frame\n",
    "    if frame_count % int(cap.get(cv2.CAP_PROP_FPS)) == 0:\n",
    "        # Increment the frame count\n",
    "        cv2.imwrite(os.path.join(output_dir, f\"frame{frame_count}.jpg\"), frame)\n",
    "        output = delete_image()\n",
    "        if output != \"error\":\n",
    "            # Perform object detection on the frame using YOLOv5\n",
    "            # save_cropped_img(cropped_img_dir, saved_img_dir)\n",
    "            # delete_folder_or_file(exp_path)\n",
    "            # Save the frame as an image in the output directory\n",
    "            delete_folder_or_file(exp_path)    \n",
    "            delete_folder_or_file(saved_img_dir)\n",
    "            delete_folder_or_file(resized_img_dir)\n",
    "            results = model(frame)\n",
    "        #   accuracy = results.xyxyn[0][:, -2].cpu().numpy()[0]\n",
    "        #   if accuracy > 0.5:\n",
    "            crops = results.crop(save=True)\n",
    "            final_result = return_final_result(exp_path, detection_model, images, cropped_img_dir, saved_img_dir, resized_img_dir)\n",
    "            lst.append(final_result)\n",
    "\n",
    "            # Process the detection results as desired\n",
    "            # For example, you can access the bounding boxes, labels, and scores of detected objects:\n",
    "            boxes = results.xyxy[0][:, :4].detach().numpy()\n",
    "            labels = results.xyxy[0][:, 5].detach().numpy()\n",
    "            scores = results.xyxy[0][:, 4].detach().numpy()\n",
    "        else:\n",
    "            continue\n",
    "    frame_count += 1\n",
    "    # Set the video capture object to the next frame at the specified frame rate\n",
    "    cap.set(cv2.CAP_PROP_POS_FRAMES, frame_count * frame_rate)\n",
    "\n",
    "# Release the video capture object\n",
    "cap.release()"
   ]
  },
  {
   "cell_type": "code",
   "execution_count": 152,
   "id": "79d9d9a7",
   "metadata": {},
   "outputs": [
    {
     "name": "stdout",
     "output_type": "stream",
     "text": [
      "Path does not exist: F:\\egyptian car plates dataset\\EALPR Vechicles dataset\\plates models\\detection_model\\model3\\yolov5\\runs\\detect\\exp\\crops\\car-plate\n",
      "Path does not exist: F:\\egyptian car plates dataset\\EALPR Vechicles dataset\\plates models\\detection_model\\model3\\yolov5\\runs\\detect\\exp\\crops\\car-plate\n",
      "Path does not exist: F:\\egyptian car plates dataset\\EALPR Vechicles dataset\\plates models\\detection_model\\model3\\yolov5\\runs\\detect\\exp\\crops\\car-plate\n",
      "Path does not exist: F:\\egyptian car plates dataset\\EALPR Vechicles dataset\\plates models\\detection_model\\model3\\yolov5\\runs\\detect\\exp\\crops\\car-plate\n",
      "Path does not exist: F:\\egyptian car plates dataset\\EALPR Vechicles dataset\\plates models\\detection_model\\model3\\yolov5\\runs\\detect\\exp\\crops\\car-plate\n",
      "Path does not exist: F:\\egyptian car plates dataset\\EALPR Vechicles dataset\\plates models\\detection_model\\model3\\yolov5\\runs\\detect\\exp\\crops\\car-plate\n",
      "Path does not exist: F:\\egyptian car plates dataset\\EALPR Vechicles dataset\\plates models\\detection_model\\model3\\yolov5\\runs\\detect\\exp\\crops\\car-plate\n",
      "Path does not exist: F:\\egyptian car plates dataset\\EALPR Vechicles dataset\\plates models\\detection_model\\model3\\yolov5\\runs\\detect\\exp\\crops\\car-plate\n",
      "Path does not exist: F:\\egyptian car plates dataset\\EALPR Vechicles dataset\\plates models\\detection_model\\model3\\yolov5\\runs\\detect\\exp\\crops\\car-plate\n",
      "Path does not exist: F:\\egyptian car plates dataset\\EALPR Vechicles dataset\\plates models\\detection_model\\model3\\yolov5\\runs\\detect\\exp\\crops\\car-plate\n",
      "Path does not exist: F:\\egyptian car plates dataset\\EALPR Vechicles dataset\\plates models\\detection_model\\model3\\yolov5\\runs\\detect\\exp\\crops\\car-plate\n",
      "Path does not exist: F:\\egyptian car plates dataset\\EALPR Vechicles dataset\\plates models\\detection_model\\model3\\yolov5\\runs\\detect\\exp\\crops\\car-plate\n",
      "Path does not exist: F:\\egyptian car plates dataset\\EALPR Vechicles dataset\\plates models\\detection_model\\model3\\yolov5\\runs\\detect\\exp\\crops\\car-plate\n",
      "Path does not exist: F:\\egyptian car plates dataset\\EALPR Vechicles dataset\\plates models\\detection_model\\model3\\yolov5\\runs\\detect\\exp\\crops\\car-plate\n",
      "Path does not exist: F:\\egyptian car plates dataset\\EALPR Vechicles dataset\\plates models\\detection_model\\model3\\yolov5\\runs\\detect\\exp\\crops\\car-plate\n",
      "Path does not exist: F:\\egyptian car plates dataset\\EALPR Vechicles dataset\\plates models\\detection_model\\model3\\yolov5\\runs\\detect\\exp\\crops\\car-plate\n",
      "Path does not exist: F:\\egyptian car plates dataset\\EALPR Vechicles dataset\\plates models\\detection_model\\model3\\yolov5\\runs\\detect\\exp\\crops\\car-plate\n",
      "Path does not exist: F:\\egyptian car plates dataset\\EALPR Vechicles dataset\\plates models\\detection_model\\model3\\yolov5\\runs\\detect\\exp\\crops\\car-plate\n",
      "Path does not exist: F:\\egyptian car plates dataset\\EALPR Vechicles dataset\\plates models\\detection_model\\model3\\yolov5\\runs\\detect\\exp\\crops\\car-plate\n",
      "Path does not exist: F:\\egyptian car plates dataset\\EALPR Vechicles dataset\\plates models\\detection_model\\model3\\yolov5\\runs\\detect\\exp\\crops\\car-plate\n",
      "Path does not exist: F:\\egyptian car plates dataset\\EALPR Vechicles dataset\\plates models\\detection_model\\model3\\yolov5\\runs\\detect\\exp\\crops\\car-plate\n",
      "Path does not exist: F:\\egyptian car plates dataset\\EALPR Vechicles dataset\\plates models\\detection_model\\model3\\yolov5\\runs\\detect\\exp\\crops\\car-plate\n",
      "Path does not exist: F:\\egyptian car plates dataset\\EALPR Vechicles dataset\\plates models\\detection_model\\model3\\yolov5\\runs\\detect\\exp\\crops\\car-plate\n",
      "Path does not exist: F:\\egyptian car plates dataset\\EALPR Vechicles dataset\\plates models\\detection_model\\model3\\yolov5\\runs\\detect\\exp\\crops\\car-plate\n",
      "Path does not exist: F:\\egyptian car plates dataset\\EALPR Vechicles dataset\\plates models\\detection_model\\model3\\yolov5\\runs\\detect\\exp\\crops\\car-plate\n",
      "Path does not exist: F:\\egyptian car plates dataset\\EALPR Vechicles dataset\\plates models\\detection_model\\model3\\yolov5\\runs\\detect\\exp\\crops\\car-plate\n",
      "Path does not exist: F:\\egyptian car plates dataset\\EALPR Vechicles dataset\\plates models\\detection_model\\model3\\yolov5\\runs\\detect\\exp\\crops\\car-plate\n",
      "Path does not exist: F:\\egyptian car plates dataset\\EALPR Vechicles dataset\\plates models\\detection_model\\model3\\yolov5\\runs\\detect\\exp\\crops\\car-plate\n",
      "Path does not exist: F:\\egyptian car plates dataset\\EALPR Vechicles dataset\\plates models\\detection_model\\model3\\yolov5\\runs\\detect\\exp\\crops\\car-plate\n",
      "Path does not exist: F:\\egyptian car plates dataset\\EALPR Vechicles dataset\\plates models\\detection_model\\model3\\yolov5\\runs\\detect\\exp\\crops\\car-plate\n",
      "Path does not exist: F:\\egyptian car plates dataset\\EALPR Vechicles dataset\\plates models\\detection_model\\model3\\yolov5\\runs\\detect\\exp\\crops\\car-plate\n",
      "Path does not exist: F:\\egyptian car plates dataset\\EALPR Vechicles dataset\\plates models\\detection_model\\model3\\yolov5\\runs\\detect\\exp\\crops\\car-plate\n",
      "Path does not exist: F:\\egyptian car plates dataset\\EALPR Vechicles dataset\\plates models\\detection_model\\model3\\yolov5\\runs\\detect\\exp\\crops\\car-plate\n",
      "Path does not exist: F:\\egyptian car plates dataset\\EALPR Vechicles dataset\\plates models\\detection_model\\model3\\yolov5\\runs\\detect\\exp\\crops\\car-plate\n",
      "Path does not exist: F:\\egyptian car plates dataset\\EALPR Vechicles dataset\\plates models\\detection_model\\model3\\yolov5\\runs\\detect\\exp\\crops\\car-plate\n",
      "Path does not exist: F:\\egyptian car plates dataset\\EALPR Vechicles dataset\\plates models\\detection_model\\model3\\yolov5\\runs\\detect\\exp\\crops\\car-plate\n",
      "Path does not exist: F:\\egyptian car plates dataset\\EALPR Vechicles dataset\\plates models\\detection_model\\model3\\yolov5\\runs\\detect\\exp\\crops\\car-plate\n",
      "Path does not exist: F:\\egyptian car plates dataset\\EALPR Vechicles dataset\\plates models\\detection_model\\model3\\yolov5\\runs\\detect\\exp\\crops\\car-plate\n",
      "Path does not exist: F:\\egyptian car plates dataset\\EALPR Vechicles dataset\\plates models\\detection_model\\model3\\yolov5\\runs\\detect\\exp\\crops\\car-plate\n",
      "Path does not exist: F:\\egyptian car plates dataset\\EALPR Vechicles dataset\\plates models\\detection_model\\model3\\yolov5\\runs\\detect\\exp\\crops\\car-plate\n",
      "Path does not exist: F:\\egyptian car plates dataset\\EALPR Vechicles dataset\\plates models\\detection_model\\model3\\yolov5\\runs\\detect\\exp\\crops\\car-plate\n",
      "Path does not exist: F:\\egyptian car plates dataset\\EALPR Vechicles dataset\\plates models\\detection_model\\model3\\yolov5\\runs\\detect\\exp\\crops\\car-plate\n",
      "Path does not exist: F:\\egyptian car plates dataset\\EALPR Vechicles dataset\\plates models\\detection_model\\model3\\yolov5\\runs\\detect\\exp\\crops\\car-plate\n",
      "Path does not exist: F:\\egyptian car plates dataset\\EALPR Vechicles dataset\\plates models\\detection_model\\model3\\yolov5\\runs\\detect\\exp\\crops\\car-plate\n",
      "Path does not exist: F:\\egyptian car plates dataset\\EALPR Vechicles dataset\\plates models\\detection_model\\model3\\yolov5\\runs\\detect\\exp\\crops\\car-plate\n",
      "Path does not exist: F:\\egyptian car plates dataset\\EALPR Vechicles dataset\\plates models\\detection_model\\model3\\yolov5\\runs\\detect\\exp\\crops\\car-plate\n",
      "Path does not exist: F:\\egyptian car plates dataset\\EALPR Vechicles dataset\\plates models\\detection_model\\model3\\yolov5\\runs\\detect\\exp\\crops\\car-plate\n",
      "Path does not exist: F:\\egyptian car plates dataset\\EALPR Vechicles dataset\\plates models\\detection_model\\model3\\yolov5\\runs\\detect\\exp\\crops\\car-plate\n",
      "Path does not exist: F:\\egyptian car plates dataset\\EALPR Vechicles dataset\\plates models\\detection_model\\model3\\yolov5\\runs\\detect\\exp\\crops\\car-plate\n",
      "Path does not exist: F:\\egyptian car plates dataset\\EALPR Vechicles dataset\\plates models\\detection_model\\model3\\yolov5\\runs\\detect\\exp\\crops\\car-plate\n",
      "Path does not exist: F:\\egyptian car plates dataset\\EALPR Vechicles dataset\\plates models\\detection_model\\model3\\yolov5\\runs\\detect\\exp\\crops\\car-plate\n",
      "Path does not exist: F:\\egyptian car plates dataset\\EALPR Vechicles dataset\\plates models\\detection_model\\model3\\yolov5\\runs\\detect\\exp\\crops\\car-plate\n",
      "Path does not exist: F:\\egyptian car plates dataset\\EALPR Vechicles dataset\\plates models\\detection_model\\model3\\yolov5\\runs\\detect\\exp\\crops\\car-plate\n",
      "Path does not exist: F:\\egyptian car plates dataset\\EALPR Vechicles dataset\\plates models\\detection_model\\model3\\yolov5\\runs\\detect\\exp\\crops\\car-plate\n",
      "Path does not exist: F:\\egyptian car plates dataset\\EALPR Vechicles dataset\\plates models\\detection_model\\model3\\yolov5\\runs\\detect\\exp\\crops\\car-plate\n",
      "Path does not exist: F:\\egyptian car plates dataset\\EALPR Vechicles dataset\\plates models\\detection_model\\model3\\yolov5\\runs\\detect\\exp\\crops\\car-plate\n",
      "Path does not exist: F:\\egyptian car plates dataset\\EALPR Vechicles dataset\\plates models\\detection_model\\model3\\yolov5\\runs\\detect\\exp\\crops\\car-plate\n",
      "Path does not exist: F:\\egyptian car plates dataset\\EALPR Vechicles dataset\\plates models\\detection_model\\model3\\yolov5\\runs\\detect\\exp\\crops\\car-plate\n",
      "Path does not exist: F:\\egyptian car plates dataset\\EALPR Vechicles dataset\\plates models\\detection_model\\model3\\yolov5\\runs\\detect\\exp\\crops\\car-plate\n",
      "Path does not exist: F:\\egyptian car plates dataset\\EALPR Vechicles dataset\\plates models\\detection_model\\model3\\yolov5\\runs\\detect\\exp\\crops\\car-plate\n",
      "Path does not exist: F:\\egyptian car plates dataset\\EALPR Vechicles dataset\\plates models\\detection_model\\model3\\yolov5\\runs\\detect\\exp\\crops\\car-plate\n",
      "Path does not exist: F:\\egyptian car plates dataset\\EALPR Vechicles dataset\\plates models\\detection_model\\model3\\yolov5\\runs\\detect\\exp\\crops\\car-plate\n",
      "Path does not exist: F:\\egyptian car plates dataset\\EALPR Vechicles dataset\\plates models\\detection_model\\model3\\yolov5\\runs\\detect\\exp\\crops\\car-plate\n",
      "Path does not exist: F:\\egyptian car plates dataset\\EALPR Vechicles dataset\\plates models\\detection_model\\model3\\yolov5\\runs\\detect\\exp\\crops\\car-plate\n",
      "Path does not exist: F:\\egyptian car plates dataset\\EALPR Vechicles dataset\\plates models\\detection_model\\model3\\yolov5\\runs\\detect\\exp\\crops\\car-plate\n",
      "Path does not exist: F:\\egyptian car plates dataset\\EALPR Vechicles dataset\\plates models\\detection_model\\model3\\yolov5\\runs\\detect\\exp\\crops\\car-plate\n",
      "Path does not exist: F:\\egyptian car plates dataset\\EALPR Vechicles dataset\\plates models\\detection_model\\model3\\yolov5\\runs\\detect\\exp\\crops\\car-plate\n",
      "Path does not exist: F:\\egyptian car plates dataset\\EALPR Vechicles dataset\\plates models\\detection_model\\model3\\yolov5\\runs\\detect\\exp\\crops\\car-plate\n",
      "Path does not exist: F:\\egyptian car plates dataset\\EALPR Vechicles dataset\\plates models\\detection_model\\model3\\yolov5\\runs\\detect\\exp\\crops\\car-plate\n",
      "Path does not exist: F:\\egyptian car plates dataset\\EALPR Vechicles dataset\\plates models\\detection_model\\model3\\yolov5\\runs\\detect\\exp\\crops\\car-plate\n",
      "Path does not exist: F:\\egyptian car plates dataset\\EALPR Vechicles dataset\\plates models\\detection_model\\model3\\yolov5\\runs\\detect\\exp\\crops\\car-plate\n",
      "Path does not exist: F:\\egyptian car plates dataset\\EALPR Vechicles dataset\\plates models\\detection_model\\model3\\yolov5\\runs\\detect\\exp\\crops\\car-plate\n",
      "Path does not exist: F:\\egyptian car plates dataset\\EALPR Vechicles dataset\\plates models\\detection_model\\model3\\yolov5\\runs\\detect\\exp\\crops\\car-plate\n",
      "Path does not exist: F:\\egyptian car plates dataset\\EALPR Vechicles dataset\\plates models\\detection_model\\model3\\yolov5\\runs\\detect\\exp\\crops\\car-plate\n",
      "Path does not exist: F:\\egyptian car plates dataset\\EALPR Vechicles dataset\\plates models\\detection_model\\model3\\yolov5\\runs\\detect\\exp\\crops\\car-plate\n",
      "Path does not exist: F:\\egyptian car plates dataset\\EALPR Vechicles dataset\\plates models\\detection_model\\model3\\yolov5\\runs\\detect\\exp\\crops\\car-plate\n",
      "Path does not exist: F:\\egyptian car plates dataset\\EALPR Vechicles dataset\\plates models\\detection_model\\model3\\yolov5\\runs\\detect\\exp\\crops\\car-plate\n",
      "Path does not exist: F:\\egyptian car plates dataset\\EALPR Vechicles dataset\\plates models\\detection_model\\model3\\yolov5\\runs\\detect\\exp\\crops\\car-plate\n",
      "Path does not exist: F:\\egyptian car plates dataset\\EALPR Vechicles dataset\\plates models\\detection_model\\model3\\yolov5\\runs\\detect\\exp\\crops\\car-plate\n",
      "Path does not exist: F:\\egyptian car plates dataset\\EALPR Vechicles dataset\\plates models\\detection_model\\model3\\yolov5\\runs\\detect\\exp\\crops\\car-plate\n",
      "Path does not exist: F:\\egyptian car plates dataset\\EALPR Vechicles dataset\\plates models\\detection_model\\model3\\yolov5\\runs\\detect\\exp\\crops\\car-plate\n",
      "Path does not exist: F:\\egyptian car plates dataset\\EALPR Vechicles dataset\\plates models\\detection_model\\model3\\yolov5\\runs\\detect\\exp\\crops\\car-plate\n",
      "Path does not exist: F:\\egyptian car plates dataset\\EALPR Vechicles dataset\\plates models\\detection_model\\model3\\yolov5\\runs\\detect\\exp\\crops\\car-plate\n",
      "Path does not exist: F:\\egyptian car plates dataset\\EALPR Vechicles dataset\\plates models\\detection_model\\model3\\yolov5\\runs\\detect\\exp\\crops\\car-plate\n",
      "Path does not exist: F:\\egyptian car plates dataset\\EALPR Vechicles dataset\\plates models\\detection_model\\model3\\yolov5\\runs\\detect\\exp\\crops\\car-plate\n",
      "Path does not exist: F:\\egyptian car plates dataset\\EALPR Vechicles dataset\\plates models\\detection_model\\model3\\yolov5\\runs\\detect\\exp\\crops\\car-plate\n",
      "Path does not exist: F:\\egyptian car plates dataset\\EALPR Vechicles dataset\\plates models\\detection_model\\model3\\yolov5\\runs\\detect\\exp\\crops\\car-plate\n",
      "Path does not exist: F:\\egyptian car plates dataset\\EALPR Vechicles dataset\\plates models\\detection_model\\model3\\yolov5\\runs\\detect\\exp\\crops\\car-plate\n",
      "Path does not exist: F:\\egyptian car plates dataset\\EALPR Vechicles dataset\\plates models\\detection_model\\model3\\yolov5\\runs\\detect\\exp\\crops\\car-plate\n",
      "Path does not exist: F:\\egyptian car plates dataset\\EALPR Vechicles dataset\\plates models\\detection_model\\model3\\yolov5\\runs\\detect\\exp\\crops\\car-plate\n",
      "Path does not exist: F:\\egyptian car plates dataset\\EALPR Vechicles dataset\\plates models\\detection_model\\model3\\yolov5\\runs\\detect\\exp\\crops\\car-plate\n",
      "Path does not exist: F:\\egyptian car plates dataset\\EALPR Vechicles dataset\\plates models\\detection_model\\model3\\yolov5\\runs\\detect\\exp\\crops\\car-plate\n",
      "Path does not exist: F:\\egyptian car plates dataset\\EALPR Vechicles dataset\\plates models\\detection_model\\model3\\yolov5\\runs\\detect\\exp\\crops\\car-plate\n",
      "Path does not exist: F:\\egyptian car plates dataset\\EALPR Vechicles dataset\\plates models\\detection_model\\model3\\yolov5\\runs\\detect\\exp\\crops\\car-plate\n",
      "Path does not exist: F:\\egyptian car plates dataset\\EALPR Vechicles dataset\\plates models\\detection_model\\model3\\yolov5\\runs\\detect\\exp\\crops\\car-plate\n",
      "Path does not exist: F:\\egyptian car plates dataset\\EALPR Vechicles dataset\\plates models\\detection_model\\model3\\yolov5\\runs\\detect\\exp\\crops\\car-plate\n",
      "Path does not exist: F:\\egyptian car plates dataset\\EALPR Vechicles dataset\\plates models\\detection_model\\model3\\yolov5\\runs\\detect\\exp\\crops\\car-plate\n",
      "Path does not exist: F:\\egyptian car plates dataset\\EALPR Vechicles dataset\\plates models\\detection_model\\model3\\yolov5\\runs\\detect\\exp\\crops\\car-plate\n",
      "Path does not exist: F:\\egyptian car plates dataset\\EALPR Vechicles dataset\\plates models\\detection_model\\model3\\yolov5\\runs\\detect\\exp\\crops\\car-plate\n",
      "Path does not exist: F:\\egyptian car plates dataset\\EALPR Vechicles dataset\\plates models\\detection_model\\model3\\yolov5\\runs\\detect\\exp\\crops\\car-plate\n",
      "Path does not exist: F:\\egyptian car plates dataset\\EALPR Vechicles dataset\\plates models\\detection_model\\model3\\yolov5\\runs\\detect\\exp\\crops\\car-plate\n",
      "Path does not exist: F:\\egyptian car plates dataset\\EALPR Vechicles dataset\\plates models\\detection_model\\model3\\yolov5\\runs\\detect\\exp\\crops\\car-plate\n",
      "Path does not exist: F:\\egyptian car plates dataset\\EALPR Vechicles dataset\\plates models\\detection_model\\model3\\yolov5\\runs\\detect\\exp\\crops\\car-plate\n",
      "Path does not exist: F:\\egyptian car plates dataset\\EALPR Vechicles dataset\\plates models\\detection_model\\model3\\yolov5\\runs\\detect\\exp\\crops\\car-plate\n",
      "Path does not exist: F:\\egyptian car plates dataset\\EALPR Vechicles dataset\\plates models\\detection_model\\model3\\yolov5\\runs\\detect\\exp\\crops\\car-plate\n",
      "Path does not exist: F:\\egyptian car plates dataset\\EALPR Vechicles dataset\\plates models\\detection_model\\model3\\yolov5\\runs\\detect\\exp\\crops\\car-plate\n",
      "Path does not exist: F:\\egyptian car plates dataset\\EALPR Vechicles dataset\\plates models\\detection_model\\model3\\yolov5\\runs\\detect\\exp\\crops\\car-plate\n",
      "Path does not exist: F:\\egyptian car plates dataset\\EALPR Vechicles dataset\\plates models\\detection_model\\model3\\yolov5\\runs\\detect\\exp\\crops\\car-plate\n",
      "Path does not exist: F:\\egyptian car plates dataset\\EALPR Vechicles dataset\\plates models\\detection_model\\model3\\yolov5\\runs\\detect\\exp\\crops\\car-plate\n",
      "Path does not exist: F:\\egyptian car plates dataset\\EALPR Vechicles dataset\\plates models\\detection_model\\model3\\yolov5\\runs\\detect\\exp\\crops\\car-plate\n",
      "Path does not exist: F:\\egyptian car plates dataset\\EALPR Vechicles dataset\\plates models\\detection_model\\model3\\yolov5\\runs\\detect\\exp\\crops\\car-plate\n",
      "Path does not exist: F:\\egyptian car plates dataset\\EALPR Vechicles dataset\\plates models\\detection_model\\model3\\yolov5\\runs\\detect\\exp\\crops\\car-plate\n",
      "Path does not exist: F:\\egyptian car plates dataset\\EALPR Vechicles dataset\\plates models\\detection_model\\model3\\yolov5\\runs\\detect\\exp\\crops\\car-plate\n",
      "Path does not exist: F:\\egyptian car plates dataset\\EALPR Vechicles dataset\\plates models\\detection_model\\model3\\yolov5\\runs\\detect\\exp\\crops\\car-plate\n",
      "Path does not exist: F:\\egyptian car plates dataset\\EALPR Vechicles dataset\\plates models\\detection_model\\model3\\yolov5\\runs\\detect\\exp\\crops\\car-plate\n",
      "Path does not exist: F:\\egyptian car plates dataset\\EALPR Vechicles dataset\\plates models\\detection_model\\model3\\yolov5\\runs\\detect\\exp\\crops\\car-plate\n",
      "Path does not exist: F:\\egyptian car plates dataset\\EALPR Vechicles dataset\\plates models\\detection_model\\model3\\yolov5\\runs\\detect\\exp\\crops\\car-plate\n",
      "Path does not exist: F:\\egyptian car plates dataset\\EALPR Vechicles dataset\\plates models\\detection_model\\model3\\yolov5\\runs\\detect\\exp\\crops\\car-plate\n",
      "Path does not exist: F:\\egyptian car plates dataset\\EALPR Vechicles dataset\\plates models\\detection_model\\model3\\yolov5\\runs\\detect\\exp\\crops\\car-plate\n",
      "Path does not exist: F:\\egyptian car plates dataset\\EALPR Vechicles dataset\\plates models\\detection_model\\model3\\yolov5\\runs\\detect\\exp\\crops\\car-plate\n",
      "Path does not exist: F:\\egyptian car plates dataset\\EALPR Vechicles dataset\\plates models\\detection_model\\model3\\yolov5\\runs\\detect\\exp\\crops\\car-plate\n",
      "Path does not exist: F:\\egyptian car plates dataset\\EALPR Vechicles dataset\\plates models\\detection_model\\model3\\yolov5\\runs\\detect\\exp\\crops\\car-plate\n",
      "Path does not exist: F:\\egyptian car plates dataset\\EALPR Vechicles dataset\\plates models\\detection_model\\model3\\yolov5\\runs\\detect\\exp\\crops\\car-plate\n",
      "Path does not exist: F:\\egyptian car plates dataset\\EALPR Vechicles dataset\\plates models\\detection_model\\model3\\yolov5\\runs\\detect\\exp\\crops\\car-plate\n",
      "Path does not exist: F:\\egyptian car plates dataset\\EALPR Vechicles dataset\\plates models\\detection_model\\model3\\yolov5\\runs\\detect\\exp\\crops\\car-plate\n",
      "Path does not exist: F:\\egyptian car plates dataset\\EALPR Vechicles dataset\\plates models\\detection_model\\model3\\yolov5\\runs\\detect\\exp\\crops\\car-plate\n",
      "Path does not exist: F:\\egyptian car plates dataset\\EALPR Vechicles dataset\\plates models\\detection_model\\model3\\yolov5\\runs\\detect\\exp\\crops\\car-plate\n",
      "Path does not exist: F:\\egyptian car plates dataset\\EALPR Vechicles dataset\\plates models\\detection_model\\model3\\yolov5\\runs\\detect\\exp\\crops\\car-plate\n",
      "Path does not exist: F:\\egyptian car plates dataset\\EALPR Vechicles dataset\\plates models\\detection_model\\model3\\yolov5\\runs\\detect\\exp\\crops\\car-plate\n",
      "Path does not exist: F:\\egyptian car plates dataset\\EALPR Vechicles dataset\\plates models\\detection_model\\model3\\yolov5\\runs\\detect\\exp\\crops\\car-plate\n",
      "Path does not exist: F:\\egyptian car plates dataset\\EALPR Vechicles dataset\\plates models\\detection_model\\model3\\yolov5\\runs\\detect\\exp\\crops\\car-plate\n",
      "Path does not exist: F:\\egyptian car plates dataset\\EALPR Vechicles dataset\\plates models\\detection_model\\model3\\yolov5\\runs\\detect\\exp\\crops\\car-plate\n",
      "Path does not exist: F:\\egyptian car plates dataset\\EALPR Vechicles dataset\\plates models\\detection_model\\model3\\yolov5\\runs\\detect\\exp\\crops\\car-plate\n",
      "Path does not exist: F:\\egyptian car plates dataset\\EALPR Vechicles dataset\\plates models\\detection_model\\model3\\yolov5\\runs\\detect\\exp\\crops\\car-plate\n",
      "Path does not exist: F:\\egyptian car plates dataset\\EALPR Vechicles dataset\\plates models\\detection_model\\model3\\yolov5\\runs\\detect\\exp\\crops\\car-plate\n",
      "Path does not exist: F:\\egyptian car plates dataset\\EALPR Vechicles dataset\\plates models\\detection_model\\model3\\yolov5\\runs\\detect\\exp\\crops\\car-plate\n",
      "Path does not exist: F:\\egyptian car plates dataset\\EALPR Vechicles dataset\\plates models\\detection_model\\model3\\yolov5\\runs\\detect\\exp\\crops\\car-plate\n",
      "Path does not exist: F:\\egyptian car plates dataset\\EALPR Vechicles dataset\\plates models\\detection_model\\model3\\yolov5\\runs\\detect\\exp\\crops\\car-plate\n",
      "Path does not exist: F:\\egyptian car plates dataset\\EALPR Vechicles dataset\\plates models\\detection_model\\model3\\yolov5\\runs\\detect\\exp\\crops\\car-plate\n",
      "Path does not exist: F:\\egyptian car plates dataset\\EALPR Vechicles dataset\\plates models\\detection_model\\model3\\yolov5\\runs\\detect\\exp\\crops\\car-plate\n",
      "Path does not exist: F:\\egyptian car plates dataset\\EALPR Vechicles dataset\\plates models\\detection_model\\model3\\yolov5\\runs\\detect\\exp\\crops\\car-plate\n",
      "Path does not exist: F:\\egyptian car plates dataset\\EALPR Vechicles dataset\\plates models\\detection_model\\model3\\yolov5\\runs\\detect\\exp\\crops\\car-plate\n",
      "Path does not exist: F:\\egyptian car plates dataset\\EALPR Vechicles dataset\\plates models\\detection_model\\model3\\yolov5\\runs\\detect\\exp\\crops\\car-plate\n",
      "Path does not exist: F:\\egyptian car plates dataset\\EALPR Vechicles dataset\\plates models\\detection_model\\model3\\yolov5\\runs\\detect\\exp\\crops\\car-plate\n",
      "Path does not exist: F:\\egyptian car plates dataset\\EALPR Vechicles dataset\\plates models\\detection_model\\model3\\yolov5\\runs\\detect\\exp\\crops\\car-plate\n",
      "Path does not exist: F:\\egyptian car plates dataset\\EALPR Vechicles dataset\\plates models\\detection_model\\model3\\yolov5\\runs\\detect\\exp\\crops\\car-plate\n",
      "Path does not exist: F:\\egyptian car plates dataset\\EALPR Vechicles dataset\\plates models\\detection_model\\model3\\yolov5\\runs\\detect\\exp\\crops\\car-plate\n",
      "Path does not exist: F:\\egyptian car plates dataset\\EALPR Vechicles dataset\\plates models\\detection_model\\model3\\yolov5\\runs\\detect\\exp\\crops\\car-plate\n",
      "Path does not exist: F:\\egyptian car plates dataset\\EALPR Vechicles dataset\\plates models\\detection_model\\model3\\yolov5\\runs\\detect\\exp\\crops\\car-plate\n",
      "Path does not exist: F:\\egyptian car plates dataset\\EALPR Vechicles dataset\\plates models\\detection_model\\model3\\yolov5\\runs\\detect\\exp\\crops\\car-plate\n",
      "Path does not exist: F:\\egyptian car plates dataset\\EALPR Vechicles dataset\\plates models\\detection_model\\model3\\yolov5\\runs\\detect\\exp\\crops\\car-plate\n",
      "Path does not exist: F:\\egyptian car plates dataset\\EALPR Vechicles dataset\\plates models\\detection_model\\model3\\yolov5\\runs\\detect\\exp\\crops\\car-plate\n",
      "Path does not exist: F:\\egyptian car plates dataset\\EALPR Vechicles dataset\\plates models\\detection_model\\model3\\yolov5\\runs\\detect\\exp\\crops\\car-plate\n",
      "Path does not exist: F:\\egyptian car plates dataset\\EALPR Vechicles dataset\\plates models\\detection_model\\model3\\yolov5\\runs\\detect\\exp\\crops\\car-plate\n",
      "Path does not exist: F:\\egyptian car plates dataset\\EALPR Vechicles dataset\\plates models\\detection_model\\model3\\yolov5\\runs\\detect\\exp\\crops\\car-plate\n",
      "Path does not exist: F:\\egyptian car plates dataset\\EALPR Vechicles dataset\\plates models\\detection_model\\model3\\yolov5\\runs\\detect\\exp\\crops\\car-plate\n",
      "Path does not exist: F:\\egyptian car plates dataset\\EALPR Vechicles dataset\\plates models\\detection_model\\model3\\yolov5\\runs\\detect\\exp\\crops\\car-plate\n",
      "Path does not exist: F:\\egyptian car plates dataset\\EALPR Vechicles dataset\\plates models\\detection_model\\model3\\yolov5\\runs\\detect\\exp\\crops\\car-plate\n",
      "Path does not exist: F:\\egyptian car plates dataset\\EALPR Vechicles dataset\\plates models\\detection_model\\model3\\yolov5\\runs\\detect\\exp\\crops\\car-plate\n",
      "Path does not exist: F:\\egyptian car plates dataset\\EALPR Vechicles dataset\\plates models\\detection_model\\model3\\yolov5\\runs\\detect\\exp\\crops\\car-plate\n",
      "Path does not exist: F:\\egyptian car plates dataset\\EALPR Vechicles dataset\\plates models\\detection_model\\model3\\yolov5\\runs\\detect\\exp\\crops\\car-plate\n",
      "Path does not exist: F:\\egyptian car plates dataset\\EALPR Vechicles dataset\\plates models\\detection_model\\model3\\yolov5\\runs\\detect\\exp\\crops\\car-plate\n",
      "Path does not exist: F:\\egyptian car plates dataset\\EALPR Vechicles dataset\\plates models\\detection_model\\model3\\yolov5\\runs\\detect\\exp\\crops\\car-plate\n",
      "Path does not exist: F:\\egyptian car plates dataset\\EALPR Vechicles dataset\\plates models\\detection_model\\model3\\yolov5\\runs\\detect\\exp\\crops\\car-plate\n",
      "Path does not exist: F:\\egyptian car plates dataset\\EALPR Vechicles dataset\\plates models\\detection_model\\model3\\yolov5\\runs\\detect\\exp\\crops\\car-plate\n",
      "Path does not exist: F:\\egyptian car plates dataset\\EALPR Vechicles dataset\\plates models\\detection_model\\model3\\yolov5\\runs\\detect\\exp\\crops\\car-plate\n",
      "Path does not exist: F:\\egyptian car plates dataset\\EALPR Vechicles dataset\\plates models\\detection_model\\model3\\yolov5\\runs\\detect\\exp\\crops\\car-plate\n",
      "Path does not exist: F:\\egyptian car plates dataset\\EALPR Vechicles dataset\\plates models\\detection_model\\model3\\yolov5\\runs\\detect\\exp\\crops\\car-plate\n",
      "Path does not exist: F:\\egyptian car plates dataset\\EALPR Vechicles dataset\\plates models\\detection_model\\model3\\yolov5\\runs\\detect\\exp\\crops\\car-plate\n",
      "Path does not exist: F:\\egyptian car plates dataset\\EALPR Vechicles dataset\\plates models\\detection_model\\model3\\yolov5\\runs\\detect\\exp\\crops\\car-plate\n",
      "Path does not exist: F:\\egyptian car plates dataset\\EALPR Vechicles dataset\\plates models\\detection_model\\model3\\yolov5\\runs\\detect\\exp\\crops\\car-plate\n",
      "Path does not exist: F:\\egyptian car plates dataset\\EALPR Vechicles dataset\\plates models\\detection_model\\model3\\yolov5\\runs\\detect\\exp\\crops\\car-plate\n",
      "Path does not exist: F:\\egyptian car plates dataset\\EALPR Vechicles dataset\\plates models\\detection_model\\model3\\yolov5\\runs\\detect\\exp\\crops\\car-plate\n",
      "Path does not exist: F:\\egyptian car plates dataset\\EALPR Vechicles dataset\\plates models\\detection_model\\model3\\yolov5\\runs\\detect\\exp\\crops\\car-plate\n",
      "Path does not exist: F:\\egyptian car plates dataset\\EALPR Vechicles dataset\\plates models\\detection_model\\model3\\yolov5\\runs\\detect\\exp\\crops\\car-plate\n",
      "Path does not exist: F:\\egyptian car plates dataset\\EALPR Vechicles dataset\\plates models\\detection_model\\model3\\yolov5\\runs\\detect\\exp\\crops\\car-plate\n",
      "Path does not exist: F:\\egyptian car plates dataset\\EALPR Vechicles dataset\\plates models\\detection_model\\model3\\yolov5\\runs\\detect\\exp\\crops\\car-plate\n",
      "Path does not exist: F:\\egyptian car plates dataset\\EALPR Vechicles dataset\\plates models\\detection_model\\model3\\yolov5\\runs\\detect\\exp\\crops\\car-plate\n",
      "Path does not exist: F:\\egyptian car plates dataset\\EALPR Vechicles dataset\\plates models\\detection_model\\model3\\yolov5\\runs\\detect\\exp\\crops\\car-plate\n",
      "Path does not exist: F:\\egyptian car plates dataset\\EALPR Vechicles dataset\\plates models\\detection_model\\model3\\yolov5\\runs\\detect\\exp\\crops\\car-plate\n",
      "Path does not exist: F:\\egyptian car plates dataset\\EALPR Vechicles dataset\\plates models\\detection_model\\model3\\yolov5\\runs\\detect\\exp\\crops\\car-plate\n",
      "Path does not exist: F:\\egyptian car plates dataset\\EALPR Vechicles dataset\\plates models\\detection_model\\model3\\yolov5\\runs\\detect\\exp\\crops\\car-plate\n",
      "Path does not exist: F:\\egyptian car plates dataset\\EALPR Vechicles dataset\\plates models\\detection_model\\model3\\yolov5\\runs\\detect\\exp\\crops\\car-plate\n",
      "Path does not exist: F:\\egyptian car plates dataset\\EALPR Vechicles dataset\\plates models\\detection_model\\model3\\yolov5\\runs\\detect\\exp\\crops\\car-plate\n",
      "Path does not exist: F:\\egyptian car plates dataset\\EALPR Vechicles dataset\\plates models\\detection_model\\model3\\yolov5\\runs\\detect\\exp\\crops\\car-plate\n",
      "Path does not exist: F:\\egyptian car plates dataset\\EALPR Vechicles dataset\\plates models\\detection_model\\model3\\yolov5\\runs\\detect\\exp\\crops\\car-plate\n",
      "Path does not exist: F:\\egyptian car plates dataset\\EALPR Vechicles dataset\\plates models\\detection_model\\model3\\yolov5\\runs\\detect\\exp\\crops\\car-plate\n",
      "Path does not exist: F:\\egyptian car plates dataset\\EALPR Vechicles dataset\\plates models\\detection_model\\model3\\yolov5\\runs\\detect\\exp\\crops\\car-plate\n",
      "Path does not exist: F:\\egyptian car plates dataset\\EALPR Vechicles dataset\\plates models\\detection_model\\model3\\yolov5\\runs\\detect\\exp\\crops\\car-plate\n",
      "Path does not exist: F:\\egyptian car plates dataset\\EALPR Vechicles dataset\\plates models\\detection_model\\model3\\yolov5\\runs\\detect\\exp\\crops\\car-plate\n",
      "Path does not exist: F:\\egyptian car plates dataset\\EALPR Vechicles dataset\\plates models\\detection_model\\model3\\yolov5\\runs\\detect\\exp\\crops\\car-plate\n",
      "Path does not exist: F:\\egyptian car plates dataset\\EALPR Vechicles dataset\\plates models\\detection_model\\model3\\yolov5\\runs\\detect\\exp\\crops\\car-plate\n",
      "Path does not exist: F:\\egyptian car plates dataset\\EALPR Vechicles dataset\\plates models\\detection_model\\model3\\yolov5\\runs\\detect\\exp\\crops\\car-plate\n",
      "Path does not exist: F:\\egyptian car plates dataset\\EALPR Vechicles dataset\\plates models\\detection_model\\model3\\yolov5\\runs\\detect\\exp\\crops\\car-plate\n",
      "Path does not exist: F:\\egyptian car plates dataset\\EALPR Vechicles dataset\\plates models\\detection_model\\model3\\yolov5\\runs\\detect\\exp\\crops\\car-plate\n",
      "Path does not exist: F:\\egyptian car plates dataset\\EALPR Vechicles dataset\\plates models\\detection_model\\model3\\yolov5\\runs\\detect\\exp\\crops\\car-plate\n",
      "Path does not exist: F:\\egyptian car plates dataset\\EALPR Vechicles dataset\\plates models\\detection_model\\model3\\yolov5\\runs\\detect\\exp\\crops\\car-plate\n",
      "Path does not exist: F:\\egyptian car plates dataset\\EALPR Vechicles dataset\\plates models\\detection_model\\model3\\yolov5\\runs\\detect\\exp\\crops\\car-plate\n",
      "Path does not exist: F:\\egyptian car plates dataset\\EALPR Vechicles dataset\\plates models\\detection_model\\model3\\yolov5\\runs\\detect\\exp\\crops\\car-plate\n",
      "Path does not exist: F:\\egyptian car plates dataset\\EALPR Vechicles dataset\\plates models\\detection_model\\model3\\yolov5\\runs\\detect\\exp\\crops\\car-plate\n",
      "Path does not exist: F:\\egyptian car plates dataset\\EALPR Vechicles dataset\\plates models\\detection_model\\model3\\yolov5\\runs\\detect\\exp\\crops\\car-plate\n",
      "Path does not exist: F:\\egyptian car plates dataset\\EALPR Vechicles dataset\\plates models\\detection_model\\model3\\yolov5\\runs\\detect\\exp\\crops\\car-plate\n",
      "Path does not exist: F:\\egyptian car plates dataset\\EALPR Vechicles dataset\\plates models\\detection_model\\model3\\yolov5\\runs\\detect\\exp\\crops\\car-plate\n",
      "Path does not exist: F:\\egyptian car plates dataset\\EALPR Vechicles dataset\\plates models\\detection_model\\model3\\yolov5\\runs\\detect\\exp\\crops\\car-plate\n",
      "Path does not exist: F:\\egyptian car plates dataset\\EALPR Vechicles dataset\\plates models\\detection_model\\model3\\yolov5\\runs\\detect\\exp\\crops\\car-plate\n",
      "Path does not exist: F:\\egyptian car plates dataset\\EALPR Vechicles dataset\\plates models\\detection_model\\model3\\yolov5\\runs\\detect\\exp\\crops\\car-plate\n",
      "Path does not exist: F:\\egyptian car plates dataset\\EALPR Vechicles dataset\\plates models\\detection_model\\model3\\yolov5\\runs\\detect\\exp\\crops\\car-plate\n",
      "Path does not exist: F:\\egyptian car plates dataset\\EALPR Vechicles dataset\\plates models\\detection_model\\model3\\yolov5\\runs\\detect\\exp\\crops\\car-plate\n",
      "Path does not exist: F:\\egyptian car plates dataset\\EALPR Vechicles dataset\\plates models\\detection_model\\model3\\yolov5\\runs\\detect\\exp\\crops\\car-plate\n",
      "Path does not exist: F:\\egyptian car plates dataset\\EALPR Vechicles dataset\\plates models\\detection_model\\model3\\yolov5\\runs\\detect\\exp\\crops\\car-plate\n",
      "Path does not exist: F:\\egyptian car plates dataset\\EALPR Vechicles dataset\\plates models\\detection_model\\model3\\yolov5\\runs\\detect\\exp\\crops\\car-plate\n",
      "Path does not exist: F:\\egyptian car plates dataset\\EALPR Vechicles dataset\\plates models\\detection_model\\model3\\yolov5\\runs\\detect\\exp\\crops\\car-plate\n",
      "Path does not exist: F:\\egyptian car plates dataset\\EALPR Vechicles dataset\\plates models\\detection_model\\model3\\yolov5\\runs\\detect\\exp\\crops\\car-plate\n",
      "Path does not exist: F:\\egyptian car plates dataset\\EALPR Vechicles dataset\\plates models\\detection_model\\model3\\yolov5\\runs\\detect\\exp\\crops\\car-plate\n",
      "Path does not exist: F:\\egyptian car plates dataset\\EALPR Vechicles dataset\\plates models\\detection_model\\model3\\yolov5\\runs\\detect\\exp\\crops\\car-plate\n",
      "Path does not exist: F:\\egyptian car plates dataset\\EALPR Vechicles dataset\\plates models\\detection_model\\model3\\yolov5\\runs\\detect\\exp\\crops\\car-plate\n",
      "Path does not exist: F:\\egyptian car plates dataset\\EALPR Vechicles dataset\\plates models\\detection_model\\model3\\yolov5\\runs\\detect\\exp\\crops\\car-plate\n",
      "Path does not exist: F:\\egyptian car plates dataset\\EALPR Vechicles dataset\\plates models\\detection_model\\model3\\yolov5\\runs\\detect\\exp\\crops\\car-plate\n",
      "Path does not exist: F:\\egyptian car plates dataset\\EALPR Vechicles dataset\\plates models\\detection_model\\model3\\yolov5\\runs\\detect\\exp\\crops\\car-plate\n",
      "Path does not exist: F:\\egyptian car plates dataset\\EALPR Vechicles dataset\\plates models\\detection_model\\model3\\yolov5\\runs\\detect\\exp\\crops\\car-plate\n",
      "Path does not exist: F:\\egyptian car plates dataset\\EALPR Vechicles dataset\\plates models\\detection_model\\model3\\yolov5\\runs\\detect\\exp\\crops\\car-plate\n",
      "Path does not exist: F:\\egyptian car plates dataset\\EALPR Vechicles dataset\\plates models\\detection_model\\model3\\yolov5\\runs\\detect\\exp\\crops\\car-plate\n",
      "Path does not exist: F:\\egyptian car plates dataset\\EALPR Vechicles dataset\\plates models\\detection_model\\model3\\yolov5\\runs\\detect\\exp\\crops\\car-plate\n",
      "Path does not exist: F:\\egyptian car plates dataset\\EALPR Vechicles dataset\\plates models\\detection_model\\model3\\yolov5\\runs\\detect\\exp\\crops\\car-plate\n",
      "Path does not exist: F:\\egyptian car plates dataset\\EALPR Vechicles dataset\\plates models\\detection_model\\model3\\yolov5\\runs\\detect\\exp\\crops\\car-plate\n",
      "Path does not exist: F:\\egyptian car plates dataset\\EALPR Vechicles dataset\\plates models\\detection_model\\model3\\yolov5\\runs\\detect\\exp\\crops\\car-plate\n",
      "Path does not exist: F:\\egyptian car plates dataset\\EALPR Vechicles dataset\\plates models\\detection_model\\model3\\yolov5\\runs\\detect\\exp\\crops\\car-plate\n",
      "Path does not exist: F:\\egyptian car plates dataset\\EALPR Vechicles dataset\\plates models\\detection_model\\model3\\yolov5\\runs\\detect\\exp\\crops\\car-plate\n",
      "Path does not exist: F:\\egyptian car plates dataset\\EALPR Vechicles dataset\\plates models\\detection_model\\model3\\yolov5\\runs\\detect\\exp\\crops\\car-plate\n",
      "Path does not exist: F:\\egyptian car plates dataset\\EALPR Vechicles dataset\\plates models\\detection_model\\model3\\yolov5\\runs\\detect\\exp\\crops\\car-plate\n",
      "Path does not exist: F:\\egyptian car plates dataset\\EALPR Vechicles dataset\\plates models\\detection_model\\model3\\yolov5\\runs\\detect\\exp\\crops\\car-plate\n",
      "Path does not exist: F:\\egyptian car plates dataset\\EALPR Vechicles dataset\\plates models\\detection_model\\model3\\yolov5\\runs\\detect\\exp\\crops\\car-plate\n",
      "Path does not exist: F:\\egyptian car plates dataset\\EALPR Vechicles dataset\\plates models\\detection_model\\model3\\yolov5\\runs\\detect\\exp\\crops\\car-plate\n",
      "Path does not exist: F:\\egyptian car plates dataset\\EALPR Vechicles dataset\\plates models\\detection_model\\model3\\yolov5\\runs\\detect\\exp\\crops\\car-plate\n",
      "Path does not exist: F:\\egyptian car plates dataset\\EALPR Vechicles dataset\\plates models\\detection_model\\model3\\yolov5\\runs\\detect\\exp\\crops\\car-plate\n",
      "Path does not exist: F:\\egyptian car plates dataset\\EALPR Vechicles dataset\\plates models\\detection_model\\model3\\yolov5\\runs\\detect\\exp\\crops\\car-plate\n",
      "Path does not exist: F:\\egyptian car plates dataset\\EALPR Vechicles dataset\\plates models\\detection_model\\model3\\yolov5\\runs\\detect\\exp\\crops\\car-plate\n",
      "Path does not exist: F:\\egyptian car plates dataset\\EALPR Vechicles dataset\\plates models\\detection_model\\model3\\yolov5\\runs\\detect\\exp\\crops\\car-plate\n",
      "Path does not exist: F:\\egyptian car plates dataset\\EALPR Vechicles dataset\\plates models\\detection_model\\model3\\yolov5\\runs\\detect\\exp\\crops\\car-plate\n",
      "Path does not exist: F:\\egyptian car plates dataset\\EALPR Vechicles dataset\\plates models\\detection_model\\model3\\yolov5\\runs\\detect\\exp\\crops\\car-plate\n",
      "Path does not exist: F:\\egyptian car plates dataset\\EALPR Vechicles dataset\\plates models\\detection_model\\model3\\yolov5\\runs\\detect\\exp\\crops\\car-plate\n",
      "Path does not exist: F:\\egyptian car plates dataset\\EALPR Vechicles dataset\\plates models\\detection_model\\model3\\yolov5\\runs\\detect\\exp\\crops\\car-plate\n",
      "Path does not exist: F:\\egyptian car plates dataset\\EALPR Vechicles dataset\\plates models\\detection_model\\model3\\yolov5\\runs\\detect\\exp\\crops\\car-plate\n",
      "Path does not exist: F:\\egyptian car plates dataset\\EALPR Vechicles dataset\\plates models\\detection_model\\model3\\yolov5\\runs\\detect\\exp\\crops\\car-plate\n",
      "Path does not exist: F:\\egyptian car plates dataset\\EALPR Vechicles dataset\\plates models\\detection_model\\model3\\yolov5\\runs\\detect\\exp\\crops\\car-plate\n",
      "Path does not exist: F:\\egyptian car plates dataset\\EALPR Vechicles dataset\\plates models\\detection_model\\model3\\yolov5\\runs\\detect\\exp\\crops\\car-plate\n",
      "Path does not exist: F:\\egyptian car plates dataset\\EALPR Vechicles dataset\\plates models\\detection_model\\model3\\yolov5\\runs\\detect\\exp\\crops\\car-plate\n",
      "Path does not exist: F:\\egyptian car plates dataset\\EALPR Vechicles dataset\\plates models\\detection_model\\model3\\yolov5\\runs\\detect\\exp\\crops\\car-plate\n",
      "Path does not exist: F:\\egyptian car plates dataset\\EALPR Vechicles dataset\\plates models\\detection_model\\model3\\yolov5\\runs\\detect\\exp\\crops\\car-plate\n",
      "Path does not exist: F:\\egyptian car plates dataset\\EALPR Vechicles dataset\\plates models\\detection_model\\model3\\yolov5\\runs\\detect\\exp\\crops\\car-plate\n",
      "Path does not exist: F:\\egyptian car plates dataset\\EALPR Vechicles dataset\\plates models\\detection_model\\model3\\yolov5\\runs\\detect\\exp\\crops\\car-plate\n",
      "Path does not exist: F:\\egyptian car plates dataset\\EALPR Vechicles dataset\\plates models\\detection_model\\model3\\yolov5\\runs\\detect\\exp\\crops\\car-plate\n",
      "Path does not exist: F:\\egyptian car plates dataset\\EALPR Vechicles dataset\\plates models\\detection_model\\model3\\yolov5\\runs\\detect\\exp\\crops\\car-plate\n",
      "Path does not exist: F:\\egyptian car plates dataset\\EALPR Vechicles dataset\\plates models\\detection_model\\model3\\yolov5\\runs\\detect\\exp\\crops\\car-plate\n",
      "Path does not exist: F:\\egyptian car plates dataset\\EALPR Vechicles dataset\\plates models\\detection_model\\model3\\yolov5\\runs\\detect\\exp\\crops\\car-plate\n",
      "Path does not exist: F:\\egyptian car plates dataset\\EALPR Vechicles dataset\\plates models\\detection_model\\model3\\yolov5\\runs\\detect\\exp\\crops\\car-plate\n",
      "Path does not exist: F:\\egyptian car plates dataset\\EALPR Vechicles dataset\\plates models\\detection_model\\model3\\yolov5\\runs\\detect\\exp\\crops\\car-plate\n",
      "Path does not exist: F:\\egyptian car plates dataset\\EALPR Vechicles dataset\\plates models\\detection_model\\model3\\yolov5\\runs\\detect\\exp\\crops\\car-plate\n",
      "Path does not exist: F:\\egyptian car plates dataset\\EALPR Vechicles dataset\\plates models\\detection_model\\model3\\yolov5\\runs\\detect\\exp\\crops\\car-plate\n",
      "Path does not exist: F:\\egyptian car plates dataset\\EALPR Vechicles dataset\\plates models\\detection_model\\model3\\yolov5\\runs\\detect\\exp\\crops\\car-plate\n",
      "Path does not exist: F:\\egyptian car plates dataset\\EALPR Vechicles dataset\\plates models\\detection_model\\model3\\yolov5\\runs\\detect\\exp\\crops\\car-plate\n",
      "Path does not exist: F:\\egyptian car plates dataset\\EALPR Vechicles dataset\\plates models\\detection_model\\model3\\yolov5\\runs\\detect\\exp\\crops\\car-plate\n",
      "Path does not exist: F:\\egyptian car plates dataset\\EALPR Vechicles dataset\\plates models\\detection_model\\model3\\yolov5\\runs\\detect\\exp\\crops\\car-plate\n",
      "Path does not exist: F:\\egyptian car plates dataset\\EALPR Vechicles dataset\\plates models\\detection_model\\model3\\yolov5\\runs\\detect\\exp\\crops\\car-plate\n",
      "Path does not exist: F:\\egyptian car plates dataset\\EALPR Vechicles dataset\\plates models\\detection_model\\model3\\yolov5\\runs\\detect\\exp\\crops\\car-plate\n",
      "Path does not exist: F:\\egyptian car plates dataset\\EALPR Vechicles dataset\\plates models\\detection_model\\model3\\yolov5\\runs\\detect\\exp\\crops\\car-plate\n",
      "Path does not exist: F:\\egyptian car plates dataset\\EALPR Vechicles dataset\\plates models\\detection_model\\model3\\yolov5\\runs\\detect\\exp\\crops\\car-plate\n",
      "Path does not exist: F:\\egyptian car plates dataset\\EALPR Vechicles dataset\\plates models\\detection_model\\model3\\yolov5\\runs\\detect\\exp\\crops\\car-plate\n",
      "Path does not exist: F:\\egyptian car plates dataset\\EALPR Vechicles dataset\\plates models\\detection_model\\model3\\yolov5\\runs\\detect\\exp\\crops\\car-plate\n",
      "Path does not exist: F:\\egyptian car plates dataset\\EALPR Vechicles dataset\\plates models\\detection_model\\model3\\yolov5\\runs\\detect\\exp\\crops\\car-plate\n",
      "Path does not exist: F:\\egyptian car plates dataset\\EALPR Vechicles dataset\\plates models\\detection_model\\model3\\yolov5\\runs\\detect\\exp\\crops\\car-plate\n",
      "Path does not exist: F:\\egyptian car plates dataset\\EALPR Vechicles dataset\\plates models\\detection_model\\model3\\yolov5\\runs\\detect\\exp\\crops\\car-plate\n",
      "Path does not exist: F:\\egyptian car plates dataset\\EALPR Vechicles dataset\\plates models\\detection_model\\model3\\yolov5\\runs\\detect\\exp\\crops\\car-plate\n",
      "Path does not exist: F:\\egyptian car plates dataset\\EALPR Vechicles dataset\\plates models\\detection_model\\model3\\yolov5\\runs\\detect\\exp\\crops\\car-plate\n",
      "Path does not exist: F:\\egyptian car plates dataset\\EALPR Vechicles dataset\\plates models\\detection_model\\model3\\yolov5\\runs\\detect\\exp\\crops\\car-plate\n",
      "Path does not exist: F:\\egyptian car plates dataset\\EALPR Vechicles dataset\\plates models\\detection_model\\model3\\yolov5\\runs\\detect\\exp\\crops\\car-plate\n",
      "Path does not exist: F:\\egyptian car plates dataset\\EALPR Vechicles dataset\\plates models\\detection_model\\model3\\yolov5\\runs\\detect\\exp\\crops\\car-plate\n",
      "Path does not exist: F:\\egyptian car plates dataset\\EALPR Vechicles dataset\\plates models\\detection_model\\model3\\yolov5\\runs\\detect\\exp\\crops\\car-plate\n",
      "Path does not exist: F:\\egyptian car plates dataset\\EALPR Vechicles dataset\\plates models\\detection_model\\model3\\yolov5\\runs\\detect\\exp\\crops\\car-plate\n",
      "Path does not exist: F:\\egyptian car plates dataset\\EALPR Vechicles dataset\\plates models\\detection_model\\model3\\yolov5\\runs\\detect\\exp\\crops\\car-plate\n",
      "Path does not exist: F:\\egyptian car plates dataset\\EALPR Vechicles dataset\\plates models\\detection_model\\model3\\yolov5\\runs\\detect\\exp\\crops\\car-plate\n",
      "Path does not exist: F:\\egyptian car plates dataset\\EALPR Vechicles dataset\\plates models\\detection_model\\model3\\yolov5\\runs\\detect\\exp\\crops\\car-plate\n",
      "Path does not exist: F:\\egyptian car plates dataset\\EALPR Vechicles dataset\\plates models\\detection_model\\model3\\yolov5\\runs\\detect\\exp\\crops\\car-plate\n",
      "Path does not exist: F:\\egyptian car plates dataset\\EALPR Vechicles dataset\\plates models\\detection_model\\model3\\yolov5\\runs\\detect\\exp\\crops\\car-plate\n",
      "Path does not exist: F:\\egyptian car plates dataset\\EALPR Vechicles dataset\\plates models\\detection_model\\model3\\yolov5\\runs\\detect\\exp\\crops\\car-plate\n",
      "Path does not exist: F:\\egyptian car plates dataset\\EALPR Vechicles dataset\\plates models\\detection_model\\model3\\yolov5\\runs\\detect\\exp\\crops\\car-plate\n",
      "Path does not exist: F:\\egyptian car plates dataset\\EALPR Vechicles dataset\\plates models\\detection_model\\model3\\yolov5\\runs\\detect\\exp\\crops\\car-plate\n",
      "Path does not exist: F:\\egyptian car plates dataset\\EALPR Vechicles dataset\\plates models\\detection_model\\model3\\yolov5\\runs\\detect\\exp\\crops\\car-plate\n",
      "Path does not exist: F:\\egyptian car plates dataset\\EALPR Vechicles dataset\\plates models\\detection_model\\model3\\yolov5\\runs\\detect\\exp\\crops\\car-plate\n",
      "Path does not exist: F:\\egyptian car plates dataset\\EALPR Vechicles dataset\\plates models\\detection_model\\model3\\yolov5\\runs\\detect\\exp\\crops\\car-plate\n",
      "Path does not exist: F:\\egyptian car plates dataset\\EALPR Vechicles dataset\\plates models\\detection_model\\model3\\yolov5\\runs\\detect\\exp\\crops\\car-plate\n",
      "Path does not exist: F:\\egyptian car plates dataset\\EALPR Vechicles dataset\\plates models\\detection_model\\model3\\yolov5\\runs\\detect\\exp\\crops\\car-plate\n",
      "Path does not exist: F:\\egyptian car plates dataset\\EALPR Vechicles dataset\\plates models\\detection_model\\model3\\yolov5\\runs\\detect\\exp\\crops\\car-plate\n",
      "Path does not exist: F:\\egyptian car plates dataset\\EALPR Vechicles dataset\\plates models\\detection_model\\model3\\yolov5\\runs\\detect\\exp\\crops\\car-plate\n",
      "Path does not exist: F:\\egyptian car plates dataset\\EALPR Vechicles dataset\\plates models\\detection_model\\model3\\yolov5\\runs\\detect\\exp\\crops\\car-plate\n",
      "Path does not exist: F:\\egyptian car plates dataset\\EALPR Vechicles dataset\\plates models\\detection_model\\model3\\yolov5\\runs\\detect\\exp\\crops\\car-plate\n",
      "Path does not exist: F:\\egyptian car plates dataset\\EALPR Vechicles dataset\\plates models\\detection_model\\model3\\yolov5\\runs\\detect\\exp\\crops\\car-plate\n",
      "Path does not exist: F:\\egyptian car plates dataset\\EALPR Vechicles dataset\\plates models\\detection_model\\model3\\yolov5\\runs\\detect\\exp\\crops\\car-plate\n",
      "Path does not exist: F:\\egyptian car plates dataset\\EALPR Vechicles dataset\\plates models\\detection_model\\model3\\yolov5\\runs\\detect\\exp\\crops\\car-plate\n",
      "Path does not exist: F:\\egyptian car plates dataset\\EALPR Vechicles dataset\\plates models\\detection_model\\model3\\yolov5\\runs\\detect\\exp\\crops\\car-plate\n",
      "Path does not exist: F:\\egyptian car plates dataset\\EALPR Vechicles dataset\\plates models\\detection_model\\model3\\yolov5\\runs\\detect\\exp\\crops\\car-plate\n",
      "Path does not exist: F:\\egyptian car plates dataset\\EALPR Vechicles dataset\\plates models\\detection_model\\model3\\yolov5\\runs\\detect\\exp\\crops\\car-plate\n",
      "Path does not exist: F:\\egyptian car plates dataset\\EALPR Vechicles dataset\\plates models\\detection_model\\model3\\yolov5\\runs\\detect\\exp\\crops\\car-plate\n",
      "Path does not exist: F:\\egyptian car plates dataset\\EALPR Vechicles dataset\\plates models\\detection_model\\model3\\yolov5\\runs\\detect\\exp\\crops\\car-plate\n",
      "Path does not exist: F:\\egyptian car plates dataset\\EALPR Vechicles dataset\\plates models\\detection_model\\model3\\yolov5\\runs\\detect\\exp\\crops\\car-plate\n",
      "Path does not exist: F:\\egyptian car plates dataset\\EALPR Vechicles dataset\\plates models\\detection_model\\model3\\yolov5\\runs\\detect\\exp\\crops\\car-plate\n",
      "Path does not exist: F:\\egyptian car plates dataset\\EALPR Vechicles dataset\\plates models\\detection_model\\model3\\yolov5\\runs\\detect\\exp\\crops\\car-plate\n",
      "Path does not exist: F:\\egyptian car plates dataset\\EALPR Vechicles dataset\\plates models\\detection_model\\model3\\yolov5\\runs\\detect\\exp\\crops\\car-plate\n",
      "Path does not exist: F:\\egyptian car plates dataset\\EALPR Vechicles dataset\\plates models\\detection_model\\model3\\yolov5\\runs\\detect\\exp\\crops\\car-plate\n",
      "Path does not exist: F:\\egyptian car plates dataset\\EALPR Vechicles dataset\\plates models\\detection_model\\model3\\yolov5\\runs\\detect\\exp\\crops\\car-plate\n",
      "Path does not exist: F:\\egyptian car plates dataset\\EALPR Vechicles dataset\\plates models\\detection_model\\model3\\yolov5\\runs\\detect\\exp\\crops\\car-plate\n",
      "Path does not exist: F:\\egyptian car plates dataset\\EALPR Vechicles dataset\\plates models\\detection_model\\model3\\yolov5\\runs\\detect\\exp\\crops\\car-plate\n",
      "Path does not exist: F:\\egyptian car plates dataset\\EALPR Vechicles dataset\\plates models\\detection_model\\model3\\yolov5\\runs\\detect\\exp\\crops\\car-plate\n",
      "Path does not exist: F:\\egyptian car plates dataset\\EALPR Vechicles dataset\\plates models\\detection_model\\model3\\yolov5\\runs\\detect\\exp\\crops\\car-plate\n",
      "Path does not exist: F:\\egyptian car plates dataset\\EALPR Vechicles dataset\\plates models\\detection_model\\model3\\yolov5\\runs\\detect\\exp\\crops\\car-plate\n",
      "Path does not exist: F:\\egyptian car plates dataset\\EALPR Vechicles dataset\\plates models\\detection_model\\model3\\yolov5\\runs\\detect\\exp\\crops\\car-plate\n",
      "Path does not exist: F:\\egyptian car plates dataset\\EALPR Vechicles dataset\\plates models\\detection_model\\model3\\yolov5\\runs\\detect\\exp\\crops\\car-plate\n",
      "Path does not exist: F:\\egyptian car plates dataset\\EALPR Vechicles dataset\\plates models\\detection_model\\model3\\yolov5\\runs\\detect\\exp\\crops\\car-plate\n",
      "Path does not exist: F:\\egyptian car plates dataset\\EALPR Vechicles dataset\\plates models\\detection_model\\model3\\yolov5\\runs\\detect\\exp\\crops\\car-plate\n",
      "Path does not exist: F:\\egyptian car plates dataset\\EALPR Vechicles dataset\\plates models\\detection_model\\model3\\yolov5\\runs\\detect\\exp\\crops\\car-plate\n",
      "Path does not exist: F:\\egyptian car plates dataset\\EALPR Vechicles dataset\\plates models\\detection_model\\model3\\yolov5\\runs\\detect\\exp\\crops\\car-plate\n",
      "Path does not exist: F:\\egyptian car plates dataset\\EALPR Vechicles dataset\\plates models\\detection_model\\model3\\yolov5\\runs\\detect\\exp\\crops\\car-plate\n",
      "Path does not exist: F:\\egyptian car plates dataset\\EALPR Vechicles dataset\\plates models\\detection_model\\model3\\yolov5\\runs\\detect\\exp\\crops\\car-plate\n",
      "Path does not exist: F:\\egyptian car plates dataset\\EALPR Vechicles dataset\\plates models\\detection_model\\model3\\yolov5\\runs\\detect\\exp\\crops\\car-plate\n",
      "Path does not exist: F:\\egyptian car plates dataset\\EALPR Vechicles dataset\\plates models\\detection_model\\model3\\yolov5\\runs\\detect\\exp\\crops\\car-plate\n",
      "Path does not exist: F:\\egyptian car plates dataset\\EALPR Vechicles dataset\\plates models\\detection_model\\model3\\yolov5\\runs\\detect\\exp\\crops\\car-plate\n",
      "Path does not exist: F:\\egyptian car plates dataset\\EALPR Vechicles dataset\\plates models\\detection_model\\model3\\yolov5\\runs\\detect\\exp\\crops\\car-plate\n",
      "Path does not exist: F:\\egyptian car plates dataset\\EALPR Vechicles dataset\\plates models\\detection_model\\model3\\yolov5\\runs\\detect\\exp\\crops\\car-plate\n",
      "Path does not exist: F:\\egyptian car plates dataset\\EALPR Vechicles dataset\\plates models\\detection_model\\model3\\yolov5\\runs\\detect\\exp\\crops\\car-plate\n",
      "Path does not exist: F:\\egyptian car plates dataset\\EALPR Vechicles dataset\\plates models\\detection_model\\model3\\yolov5\\runs\\detect\\exp\\crops\\car-plate\n",
      "Path does not exist: F:\\egyptian car plates dataset\\EALPR Vechicles dataset\\plates models\\detection_model\\model3\\yolov5\\runs\\detect\\exp\\crops\\car-plate\n",
      "Path does not exist: F:\\egyptian car plates dataset\\EALPR Vechicles dataset\\plates models\\detection_model\\model3\\yolov5\\runs\\detect\\exp\\crops\\car-plate\n",
      "Path does not exist: F:\\egyptian car plates dataset\\EALPR Vechicles dataset\\plates models\\detection_model\\model3\\yolov5\\runs\\detect\\exp\\crops\\car-plate\n",
      "Path does not exist: F:\\egyptian car plates dataset\\EALPR Vechicles dataset\\plates models\\detection_model\\model3\\yolov5\\runs\\detect\\exp\\crops\\car-plate\n",
      "Path does not exist: F:\\egyptian car plates dataset\\EALPR Vechicles dataset\\plates models\\detection_model\\model3\\yolov5\\runs\\detect\\exp\\crops\\car-plate\n",
      "Path does not exist: F:\\egyptian car plates dataset\\EALPR Vechicles dataset\\plates models\\detection_model\\model3\\yolov5\\runs\\detect\\exp\\crops\\car-plate\n",
      "Path does not exist: F:\\egyptian car plates dataset\\EALPR Vechicles dataset\\plates models\\detection_model\\model3\\yolov5\\runs\\detect\\exp\\crops\\car-plate\n",
      "Path does not exist: F:\\egyptian car plates dataset\\EALPR Vechicles dataset\\plates models\\detection_model\\model3\\yolov5\\runs\\detect\\exp\\crops\\car-plate\n",
      "Path does not exist: F:\\egyptian car plates dataset\\EALPR Vechicles dataset\\plates models\\detection_model\\model3\\yolov5\\runs\\detect\\exp\\crops\\car-plate\n",
      "Path does not exist: F:\\egyptian car plates dataset\\EALPR Vechicles dataset\\plates models\\detection_model\\model3\\yolov5\\runs\\detect\\exp\\crops\\car-plate\n",
      "Path does not exist: F:\\egyptian car plates dataset\\EALPR Vechicles dataset\\plates models\\detection_model\\model3\\yolov5\\runs\\detect\\exp\\crops\\car-plate\n",
      "Path does not exist: F:\\egyptian car plates dataset\\EALPR Vechicles dataset\\plates models\\detection_model\\model3\\yolov5\\runs\\detect\\exp\\crops\\car-plate\n",
      "Path does not exist: F:\\egyptian car plates dataset\\EALPR Vechicles dataset\\plates models\\detection_model\\model3\\yolov5\\runs\\detect\\exp\\crops\\car-plate\n",
      "Path does not exist: F:\\egyptian car plates dataset\\EALPR Vechicles dataset\\plates models\\detection_model\\model3\\yolov5\\runs\\detect\\exp\\crops\\car-plate\n",
      "Path does not exist: F:\\egyptian car plates dataset\\EALPR Vechicles dataset\\plates models\\detection_model\\model3\\yolov5\\runs\\detect\\exp\\crops\\car-plate\n",
      "Path does not exist: F:\\egyptian car plates dataset\\EALPR Vechicles dataset\\plates models\\detection_model\\model3\\yolov5\\runs\\detect\\exp\\crops\\car-plate\n",
      "Path does not exist: F:\\egyptian car plates dataset\\EALPR Vechicles dataset\\plates models\\detection_model\\model3\\yolov5\\runs\\detect\\exp\\crops\\car-plate\n",
      "Path does not exist: F:\\egyptian car plates dataset\\EALPR Vechicles dataset\\plates models\\detection_model\\model3\\yolov5\\runs\\detect\\exp\\crops\\car-plate\n",
      "Path does not exist: F:\\egyptian car plates dataset\\EALPR Vechicles dataset\\plates models\\detection_model\\model3\\yolov5\\runs\\detect\\exp\\crops\\car-plate\n",
      "Path does not exist: F:\\egyptian car plates dataset\\EALPR Vechicles dataset\\plates models\\detection_model\\model3\\yolov5\\runs\\detect\\exp\\crops\\car-plate\n",
      "Path does not exist: F:\\egyptian car plates dataset\\EALPR Vechicles dataset\\plates models\\detection_model\\model3\\yolov5\\runs\\detect\\exp\\crops\\car-plate\n",
      "Path does not exist: F:\\egyptian car plates dataset\\EALPR Vechicles dataset\\plates models\\detection_model\\model3\\yolov5\\runs\\detect\\exp\\crops\\car-plate\n",
      "Path does not exist: F:\\egyptian car plates dataset\\EALPR Vechicles dataset\\plates models\\detection_model\\model3\\yolov5\\runs\\detect\\exp\\crops\\car-plate\n",
      "Path does not exist: F:\\egyptian car plates dataset\\EALPR Vechicles dataset\\plates models\\detection_model\\model3\\yolov5\\runs\\detect\\exp\\crops\\car-plate\n",
      "Path does not exist: F:\\egyptian car plates dataset\\EALPR Vechicles dataset\\plates models\\detection_model\\model3\\yolov5\\runs\\detect\\exp\\crops\\car-plate\n",
      "Path does not exist: F:\\egyptian car plates dataset\\EALPR Vechicles dataset\\plates models\\detection_model\\model3\\yolov5\\runs\\detect\\exp\\crops\\car-plate\n",
      "Path does not exist: F:\\egyptian car plates dataset\\EALPR Vechicles dataset\\plates models\\detection_model\\model3\\yolov5\\runs\\detect\\exp\\crops\\car-plate\n",
      "Path does not exist: F:\\egyptian car plates dataset\\EALPR Vechicles dataset\\plates models\\detection_model\\model3\\yolov5\\runs\\detect\\exp\\crops\\car-plate\n",
      "Path does not exist: F:\\egyptian car plates dataset\\EALPR Vechicles dataset\\plates models\\detection_model\\model3\\yolov5\\runs\\detect\\exp\\crops\\car-plate\n",
      "Path does not exist: F:\\egyptian car plates dataset\\EALPR Vechicles dataset\\plates models\\detection_model\\model3\\yolov5\\runs\\detect\\exp\\crops\\car-plate\n",
      "Path does not exist: F:\\egyptian car plates dataset\\EALPR Vechicles dataset\\plates models\\detection_model\\model3\\yolov5\\runs\\detect\\exp\\crops\\car-plate\n",
      "Path does not exist: F:\\egyptian car plates dataset\\EALPR Vechicles dataset\\plates models\\detection_model\\model3\\yolov5\\runs\\detect\\exp\\crops\\car-plate\n",
      "Path does not exist: F:\\egyptian car plates dataset\\EALPR Vechicles dataset\\plates models\\detection_model\\model3\\yolov5\\runs\\detect\\exp\\crops\\car-plate\n",
      "Path does not exist: F:\\egyptian car plates dataset\\EALPR Vechicles dataset\\plates models\\detection_model\\model3\\yolov5\\runs\\detect\\exp\\crops\\car-plate\n",
      "Path does not exist: F:\\egyptian car plates dataset\\EALPR Vechicles dataset\\plates models\\detection_model\\model3\\yolov5\\runs\\detect\\exp\\crops\\car-plate\n",
      "Path does not exist: F:\\egyptian car plates dataset\\EALPR Vechicles dataset\\plates models\\detection_model\\model3\\yolov5\\runs\\detect\\exp\\crops\\car-plate\n",
      "Path does not exist: F:\\egyptian car plates dataset\\EALPR Vechicles dataset\\plates models\\detection_model\\model3\\yolov5\\runs\\detect\\exp\\crops\\car-plate\n",
      "Path does not exist: F:\\egyptian car plates dataset\\EALPR Vechicles dataset\\plates models\\detection_model\\model3\\yolov5\\runs\\detect\\exp\\crops\\car-plate\n",
      "Path does not exist: F:\\egyptian car plates dataset\\EALPR Vechicles dataset\\plates models\\detection_model\\model3\\yolov5\\runs\\detect\\exp\\crops\\car-plate\n",
      "Path does not exist: F:\\egyptian car plates dataset\\EALPR Vechicles dataset\\plates models\\detection_model\\model3\\yolov5\\runs\\detect\\exp\\crops\\car-plate\n",
      "Path does not exist: F:\\egyptian car plates dataset\\EALPR Vechicles dataset\\plates models\\detection_model\\model3\\yolov5\\runs\\detect\\exp\\crops\\car-plate\n",
      "Path does not exist: F:\\egyptian car plates dataset\\EALPR Vechicles dataset\\plates models\\detection_model\\model3\\yolov5\\runs\\detect\\exp\\crops\\car-plate\n",
      "Path does not exist: F:\\egyptian car plates dataset\\EALPR Vechicles dataset\\plates models\\detection_model\\model3\\yolov5\\runs\\detect\\exp\\crops\\car-plate\n",
      "Path does not exist: F:\\egyptian car plates dataset\\EALPR Vechicles dataset\\plates models\\detection_model\\model3\\yolov5\\runs\\detect\\exp\\crops\\car-plate\n",
      "Path does not exist: F:\\egyptian car plates dataset\\EALPR Vechicles dataset\\plates models\\detection_model\\model3\\yolov5\\runs\\detect\\exp\\crops\\car-plate\n",
      "Path does not exist: F:\\egyptian car plates dataset\\EALPR Vechicles dataset\\plates models\\detection_model\\model3\\yolov5\\runs\\detect\\exp\\crops\\car-plate\n",
      "Path does not exist: F:\\egyptian car plates dataset\\EALPR Vechicles dataset\\plates models\\detection_model\\model3\\yolov5\\runs\\detect\\exp\\crops\\car-plate\n",
      "Path does not exist: F:\\egyptian car plates dataset\\EALPR Vechicles dataset\\plates models\\detection_model\\model3\\yolov5\\runs\\detect\\exp\\crops\\car-plate\n",
      "Path does not exist: F:\\egyptian car plates dataset\\EALPR Vechicles dataset\\plates models\\detection_model\\model3\\yolov5\\runs\\detect\\exp\\crops\\car-plate\n",
      "Path does not exist: F:\\egyptian car plates dataset\\EALPR Vechicles dataset\\plates models\\detection_model\\model3\\yolov5\\runs\\detect\\exp\\crops\\car-plate\n",
      "Path does not exist: F:\\egyptian car plates dataset\\EALPR Vechicles dataset\\plates models\\detection_model\\model3\\yolov5\\runs\\detect\\exp\\crops\\car-plate\n",
      "Path does not exist: F:\\egyptian car plates dataset\\EALPR Vechicles dataset\\plates models\\detection_model\\model3\\yolov5\\runs\\detect\\exp\\crops\\car-plate\n",
      "Path does not exist: F:\\egyptian car plates dataset\\EALPR Vechicles dataset\\plates models\\detection_model\\model3\\yolov5\\runs\\detect\\exp\\crops\\car-plate\n",
      "Path does not exist: F:\\egyptian car plates dataset\\EALPR Vechicles dataset\\plates models\\detection_model\\model3\\yolov5\\runs\\detect\\exp\\crops\\car-plate\n",
      "Path does not exist: F:\\egyptian car plates dataset\\EALPR Vechicles dataset\\plates models\\detection_model\\model3\\yolov5\\runs\\detect\\exp\\crops\\car-plate\n",
      "Path does not exist: F:\\egyptian car plates dataset\\EALPR Vechicles dataset\\plates models\\detection_model\\model3\\yolov5\\runs\\detect\\exp\\crops\\car-plate\n",
      "Path does not exist: F:\\egyptian car plates dataset\\EALPR Vechicles dataset\\plates models\\detection_model\\model3\\yolov5\\runs\\detect\\exp\\crops\\car-plate\n",
      "Path does not exist: F:\\egyptian car plates dataset\\EALPR Vechicles dataset\\plates models\\detection_model\\model3\\yolov5\\runs\\detect\\exp\\crops\\car-plate\n",
      "Path does not exist: F:\\egyptian car plates dataset\\EALPR Vechicles dataset\\plates models\\detection_model\\model3\\yolov5\\runs\\detect\\exp\\crops\\car-plate\n",
      "Path does not exist: F:\\egyptian car plates dataset\\EALPR Vechicles dataset\\plates models\\detection_model\\model3\\yolov5\\runs\\detect\\exp\\crops\\car-plate\n",
      "Path does not exist: F:\\egyptian car plates dataset\\EALPR Vechicles dataset\\plates models\\detection_model\\model3\\yolov5\\runs\\detect\\exp\\crops\\car-plate\n",
      "Path does not exist: F:\\egyptian car plates dataset\\EALPR Vechicles dataset\\plates models\\detection_model\\model3\\yolov5\\runs\\detect\\exp\\crops\\car-plate\n",
      "Path does not exist: F:\\egyptian car plates dataset\\EALPR Vechicles dataset\\plates models\\detection_model\\model3\\yolov5\\runs\\detect\\exp\\crops\\car-plate\n",
      "Path does not exist: F:\\egyptian car plates dataset\\EALPR Vechicles dataset\\plates models\\detection_model\\model3\\yolov5\\runs\\detect\\exp\\crops\\car-plate\n",
      "Path does not exist: F:\\egyptian car plates dataset\\EALPR Vechicles dataset\\plates models\\detection_model\\model3\\yolov5\\runs\\detect\\exp\\crops\\car-plate\n",
      "Path does not exist: F:\\egyptian car plates dataset\\EALPR Vechicles dataset\\plates models\\detection_model\\model3\\yolov5\\runs\\detect\\exp\\crops\\car-plate\n",
      "Path does not exist: F:\\egyptian car plates dataset\\EALPR Vechicles dataset\\plates models\\detection_model\\model3\\yolov5\\runs\\detect\\exp\\crops\\car-plate\n",
      "Path does not exist: F:\\egyptian car plates dataset\\EALPR Vechicles dataset\\plates models\\detection_model\\model3\\yolov5\\runs\\detect\\exp\\crops\\car-plate\n",
      "Path does not exist: F:\\egyptian car plates dataset\\EALPR Vechicles dataset\\plates models\\detection_model\\model3\\yolov5\\runs\\detect\\exp\\crops\\car-plate\n",
      "Path does not exist: F:\\egyptian car plates dataset\\EALPR Vechicles dataset\\plates models\\detection_model\\model3\\yolov5\\runs\\detect\\exp\\crops\\car-plate\n",
      "Path does not exist: F:\\egyptian car plates dataset\\EALPR Vechicles dataset\\plates models\\detection_model\\model3\\yolov5\\runs\\detect\\exp\\crops\\car-plate\n",
      "Path does not exist: F:\\egyptian car plates dataset\\EALPR Vechicles dataset\\plates models\\detection_model\\model3\\yolov5\\runs\\detect\\exp\\crops\\car-plate\n",
      "Path does not exist: F:\\egyptian car plates dataset\\EALPR Vechicles dataset\\plates models\\detection_model\\model3\\yolov5\\runs\\detect\\exp\\crops\\car-plate\n",
      "Path does not exist: F:\\egyptian car plates dataset\\EALPR Vechicles dataset\\plates models\\detection_model\\model3\\yolov5\\runs\\detect\\exp\\crops\\car-plate\n",
      "Path does not exist: F:\\egyptian car plates dataset\\EALPR Vechicles dataset\\plates models\\detection_model\\model3\\yolov5\\runs\\detect\\exp\\crops\\car-plate\n",
      "Path does not exist: F:\\egyptian car plates dataset\\EALPR Vechicles dataset\\plates models\\detection_model\\model3\\yolov5\\runs\\detect\\exp\\crops\\car-plate\n",
      "Path does not exist: F:\\egyptian car plates dataset\\EALPR Vechicles dataset\\plates models\\detection_model\\model3\\yolov5\\runs\\detect\\exp\\crops\\car-plate\n",
      "Path does not exist: F:\\egyptian car plates dataset\\EALPR Vechicles dataset\\plates models\\detection_model\\model3\\yolov5\\runs\\detect\\exp\\crops\\car-plate\n",
      "Path does not exist: F:\\egyptian car plates dataset\\EALPR Vechicles dataset\\plates models\\detection_model\\model3\\yolov5\\runs\\detect\\exp\\crops\\car-plate\n",
      "Path does not exist: F:\\egyptian car plates dataset\\EALPR Vechicles dataset\\plates models\\detection_model\\model3\\yolov5\\runs\\detect\\exp\\crops\\car-plate\n",
      "Path does not exist: F:\\egyptian car plates dataset\\EALPR Vechicles dataset\\plates models\\detection_model\\model3\\yolov5\\runs\\detect\\exp\\crops\\car-plate\n",
      "Path does not exist: F:\\egyptian car plates dataset\\EALPR Vechicles dataset\\plates models\\detection_model\\model3\\yolov5\\runs\\detect\\exp\\crops\\car-plate\n",
      "Path does not exist: F:\\egyptian car plates dataset\\EALPR Vechicles dataset\\plates models\\detection_model\\model3\\yolov5\\runs\\detect\\exp\\crops\\car-plate\n",
      "Path does not exist: F:\\egyptian car plates dataset\\EALPR Vechicles dataset\\plates models\\detection_model\\model3\\yolov5\\runs\\detect\\exp\\crops\\car-plate\n",
      "Path does not exist: F:\\egyptian car plates dataset\\EALPR Vechicles dataset\\plates models\\detection_model\\model3\\yolov5\\runs\\detect\\exp\\crops\\car-plate\n",
      "Path does not exist: F:\\egyptian car plates dataset\\EALPR Vechicles dataset\\plates models\\detection_model\\model3\\yolov5\\runs\\detect\\exp\\crops\\car-plate\n",
      "Path does not exist: F:\\egyptian car plates dataset\\EALPR Vechicles dataset\\plates models\\detection_model\\model3\\yolov5\\runs\\detect\\exp\\crops\\car-plate\n",
      "Path does not exist: F:\\egyptian car plates dataset\\EALPR Vechicles dataset\\plates models\\detection_model\\model3\\yolov5\\runs\\detect\\exp\\crops\\car-plate\n",
      "Path does not exist: F:\\egyptian car plates dataset\\EALPR Vechicles dataset\\plates models\\detection_model\\model3\\yolov5\\runs\\detect\\exp\\crops\\car-plate\n",
      "Path does not exist: F:\\egyptian car plates dataset\\EALPR Vechicles dataset\\plates models\\detection_model\\model3\\yolov5\\runs\\detect\\exp\\crops\\car-plate\n",
      "Path does not exist: F:\\egyptian car plates dataset\\EALPR Vechicles dataset\\plates models\\detection_model\\model3\\yolov5\\runs\\detect\\exp\\crops\\car-plate\n",
      "Path does not exist: F:\\egyptian car plates dataset\\EALPR Vechicles dataset\\plates models\\detection_model\\model3\\yolov5\\runs\\detect\\exp\\crops\\car-plate\n",
      "Path does not exist: F:\\egyptian car plates dataset\\EALPR Vechicles dataset\\plates models\\detection_model\\model3\\yolov5\\runs\\detect\\exp\\crops\\car-plate\n",
      "Path does not exist: F:\\egyptian car plates dataset\\EALPR Vechicles dataset\\plates models\\detection_model\\model3\\yolov5\\runs\\detect\\exp\\crops\\car-plate\n",
      "Path does not exist: F:\\egyptian car plates dataset\\EALPR Vechicles dataset\\plates models\\detection_model\\model3\\yolov5\\runs\\detect\\exp\\crops\\car-plate\n",
      "Path does not exist: F:\\egyptian car plates dataset\\EALPR Vechicles dataset\\plates models\\detection_model\\model3\\yolov5\\runs\\detect\\exp\\crops\\car-plate\n",
      "Path does not exist: F:\\egyptian car plates dataset\\EALPR Vechicles dataset\\plates models\\detection_model\\model3\\yolov5\\runs\\detect\\exp\\crops\\car-plate\n",
      "Path does not exist: F:\\egyptian car plates dataset\\EALPR Vechicles dataset\\plates models\\detection_model\\model3\\yolov5\\runs\\detect\\exp\\crops\\car-plate\n",
      "Path does not exist: F:\\egyptian car plates dataset\\EALPR Vechicles dataset\\plates models\\detection_model\\model3\\yolov5\\runs\\detect\\exp\\crops\\car-plate\n",
      "Path does not exist: F:\\egyptian car plates dataset\\EALPR Vechicles dataset\\plates models\\detection_model\\model3\\yolov5\\runs\\detect\\exp\\crops\\car-plate\n",
      "Path does not exist: F:\\egyptian car plates dataset\\EALPR Vechicles dataset\\plates models\\detection_model\\model3\\yolov5\\runs\\detect\\exp\\crops\\car-plate\n",
      "Path does not exist: F:\\egyptian car plates dataset\\EALPR Vechicles dataset\\plates models\\detection_model\\model3\\yolov5\\runs\\detect\\exp\\crops\\car-plate\n",
      "Path does not exist: F:\\egyptian car plates dataset\\EALPR Vechicles dataset\\plates models\\detection_model\\model3\\yolov5\\runs\\detect\\exp\\crops\\car-plate\n",
      "Path does not exist: F:\\egyptian car plates dataset\\EALPR Vechicles dataset\\plates models\\detection_model\\model3\\yolov5\\runs\\detect\\exp\\crops\\car-plate\n",
      "Path does not exist: F:\\egyptian car plates dataset\\EALPR Vechicles dataset\\plates models\\detection_model\\model3\\yolov5\\runs\\detect\\exp\\crops\\car-plate\n",
      "Path does not exist: F:\\egyptian car plates dataset\\EALPR Vechicles dataset\\plates models\\detection_model\\model3\\yolov5\\runs\\detect\\exp\\crops\\car-plate\n",
      "Path does not exist: F:\\egyptian car plates dataset\\EALPR Vechicles dataset\\plates models\\detection_model\\model3\\yolov5\\runs\\detect\\exp\\crops\\car-plate\n",
      "Path does not exist: F:\\egyptian car plates dataset\\EALPR Vechicles dataset\\plates models\\detection_model\\model3\\yolov5\\runs\\detect\\exp\\crops\\car-plate\n",
      "Path does not exist: F:\\egyptian car plates dataset\\EALPR Vechicles dataset\\plates models\\detection_model\\model3\\yolov5\\runs\\detect\\exp\\crops\\car-plate\n",
      "Path does not exist: F:\\egyptian car plates dataset\\EALPR Vechicles dataset\\plates models\\detection_model\\model3\\yolov5\\runs\\detect\\exp\\crops\\car-plate\n",
      "Path does not exist: F:\\egyptian car plates dataset\\EALPR Vechicles dataset\\plates models\\detection_model\\model3\\yolov5\\runs\\detect\\exp\\crops\\car-plate\n",
      "Path does not exist: F:\\egyptian car plates dataset\\EALPR Vechicles dataset\\plates models\\detection_model\\model3\\yolov5\\runs\\detect\\exp\\crops\\car-plate\n",
      "Path does not exist: F:\\egyptian car plates dataset\\EALPR Vechicles dataset\\plates models\\detection_model\\model3\\yolov5\\runs\\detect\\exp\\crops\\car-plate\n",
      "Path does not exist: F:\\egyptian car plates dataset\\EALPR Vechicles dataset\\plates models\\detection_model\\model3\\yolov5\\runs\\detect\\exp\\crops\\car-plate\n",
      "Path does not exist: F:\\egyptian car plates dataset\\EALPR Vechicles dataset\\plates models\\detection_model\\model3\\yolov5\\runs\\detect\\exp\\crops\\car-plate\n",
      "Path does not exist: F:\\egyptian car plates dataset\\EALPR Vechicles dataset\\plates models\\detection_model\\model3\\yolov5\\runs\\detect\\exp\\crops\\car-plate\n",
      "Path does not exist: F:\\egyptian car plates dataset\\EALPR Vechicles dataset\\plates models\\detection_model\\model3\\yolov5\\runs\\detect\\exp\\crops\\car-plate\n",
      "Path does not exist: F:\\egyptian car plates dataset\\EALPR Vechicles dataset\\plates models\\detection_model\\model3\\yolov5\\runs\\detect\\exp\\crops\\car-plate\n",
      "Path does not exist: F:\\egyptian car plates dataset\\EALPR Vechicles dataset\\plates models\\detection_model\\model3\\yolov5\\runs\\detect\\exp\\crops\\car-plate\n",
      "Path does not exist: F:\\egyptian car plates dataset\\EALPR Vechicles dataset\\plates models\\detection_model\\model3\\yolov5\\runs\\detect\\exp\\crops\\car-plate\n",
      "Path does not exist: F:\\egyptian car plates dataset\\EALPR Vechicles dataset\\plates models\\detection_model\\model3\\yolov5\\runs\\detect\\exp\\crops\\car-plate\n",
      "Path does not exist: F:\\egyptian car plates dataset\\EALPR Vechicles dataset\\plates models\\detection_model\\model3\\yolov5\\runs\\detect\\exp\\crops\\car-plate\n",
      "Path does not exist: F:\\egyptian car plates dataset\\EALPR Vechicles dataset\\plates models\\detection_model\\model3\\yolov5\\runs\\detect\\exp\\crops\\car-plate\n",
      "Path does not exist: F:\\egyptian car plates dataset\\EALPR Vechicles dataset\\plates models\\detection_model\\model3\\yolov5\\runs\\detect\\exp\\crops\\car-plate\n",
      "Path does not exist: F:\\egyptian car plates dataset\\EALPR Vechicles dataset\\plates models\\detection_model\\model3\\yolov5\\runs\\detect\\exp\\crops\\car-plate\n",
      "Path does not exist: F:\\egyptian car plates dataset\\EALPR Vechicles dataset\\plates models\\detection_model\\model3\\yolov5\\runs\\detect\\exp\\crops\\car-plate\n",
      "Path does not exist: F:\\egyptian car plates dataset\\EALPR Vechicles dataset\\plates models\\detection_model\\model3\\yolov5\\runs\\detect\\exp\\crops\\car-plate\n",
      "Path does not exist: F:\\egyptian car plates dataset\\EALPR Vechicles dataset\\plates models\\detection_model\\model3\\yolov5\\runs\\detect\\exp\\crops\\car-plate\n",
      "Path does not exist: F:\\egyptian car plates dataset\\EALPR Vechicles dataset\\plates models\\detection_model\\model3\\yolov5\\runs\\detect\\exp\\crops\\car-plate\n",
      "Path does not exist: F:\\egyptian car plates dataset\\EALPR Vechicles dataset\\plates models\\detection_model\\model3\\yolov5\\runs\\detect\\exp\\crops\\car-plate\n",
      "Path does not exist: F:\\egyptian car plates dataset\\EALPR Vechicles dataset\\plates models\\detection_model\\model3\\yolov5\\runs\\detect\\exp\\crops\\car-plate\n",
      "Path does not exist: F:\\egyptian car plates dataset\\EALPR Vechicles dataset\\plates models\\detection_model\\model3\\yolov5\\runs\\detect\\exp\\crops\\car-plate\n",
      "Path does not exist: F:\\egyptian car plates dataset\\EALPR Vechicles dataset\\plates models\\detection_model\\model3\\yolov5\\runs\\detect\\exp\\crops\\car-plate\n",
      "Path does not exist: F:\\egyptian car plates dataset\\EALPR Vechicles dataset\\plates models\\detection_model\\model3\\yolov5\\runs\\detect\\exp\\crops\\car-plate\n",
      "Path does not exist: F:\\egyptian car plates dataset\\EALPR Vechicles dataset\\plates models\\detection_model\\model3\\yolov5\\runs\\detect\\exp\\crops\\car-plate\n",
      "Path does not exist: F:\\egyptian car plates dataset\\EALPR Vechicles dataset\\plates models\\detection_model\\model3\\yolov5\\runs\\detect\\exp\\crops\\car-plate\n",
      "Path does not exist: F:\\egyptian car plates dataset\\EALPR Vechicles dataset\\plates models\\detection_model\\model3\\yolov5\\runs\\detect\\exp\\crops\\car-plate\n",
      "Path does not exist: F:\\egyptian car plates dataset\\EALPR Vechicles dataset\\plates models\\detection_model\\model3\\yolov5\\runs\\detect\\exp\\crops\\car-plate\n",
      "Path does not exist: F:\\egyptian car plates dataset\\EALPR Vechicles dataset\\plates models\\detection_model\\model3\\yolov5\\runs\\detect\\exp\\crops\\car-plate\n",
      "Path does not exist: F:\\egyptian car plates dataset\\EALPR Vechicles dataset\\plates models\\detection_model\\model3\\yolov5\\runs\\detect\\exp\\crops\\car-plate\n",
      "Path does not exist: F:\\egyptian car plates dataset\\EALPR Vechicles dataset\\plates models\\detection_model\\model3\\yolov5\\runs\\detect\\exp\\crops\\car-plate\n",
      "Path does not exist: F:\\egyptian car plates dataset\\EALPR Vechicles dataset\\plates models\\detection_model\\model3\\yolov5\\runs\\detect\\exp\\crops\\car-plate\n",
      "Path does not exist: F:\\egyptian car plates dataset\\EALPR Vechicles dataset\\plates models\\detection_model\\model3\\yolov5\\runs\\detect\\exp\\crops\\car-plate\n",
      "Path does not exist: F:\\egyptian car plates dataset\\EALPR Vechicles dataset\\plates models\\detection_model\\model3\\yolov5\\runs\\detect\\exp\\crops\\car-plate\n",
      "Path does not exist: F:\\egyptian car plates dataset\\EALPR Vechicles dataset\\plates models\\detection_model\\model3\\yolov5\\runs\\detect\\exp\\crops\\car-plate\n",
      "Path does not exist: F:\\egyptian car plates dataset\\EALPR Vechicles dataset\\plates models\\detection_model\\model3\\yolov5\\runs\\detect\\exp\\crops\\car-plate\n",
      "Path does not exist: F:\\egyptian car plates dataset\\EALPR Vechicles dataset\\plates models\\detection_model\\model3\\yolov5\\runs\\detect\\exp\\crops\\car-plate\n",
      "Path does not exist: F:\\egyptian car plates dataset\\EALPR Vechicles dataset\\plates models\\detection_model\\model3\\yolov5\\runs\\detect\\exp\\crops\\car-plate\n",
      "Path does not exist: F:\\egyptian car plates dataset\\EALPR Vechicles dataset\\plates models\\detection_model\\model3\\yolov5\\runs\\detect\\exp\\crops\\car-plate\n",
      "Path does not exist: F:\\egyptian car plates dataset\\EALPR Vechicles dataset\\plates models\\detection_model\\model3\\yolov5\\runs\\detect\\exp\\crops\\car-plate\n",
      "Path does not exist: F:\\egyptian car plates dataset\\EALPR Vechicles dataset\\plates models\\detection_model\\model3\\yolov5\\runs\\detect\\exp\\crops\\car-plate\n",
      "Path does not exist: F:\\egyptian car plates dataset\\EALPR Vechicles dataset\\plates models\\detection_model\\model3\\yolov5\\runs\\detect\\exp\\crops\\car-plate\n",
      "Path does not exist: F:\\egyptian car plates dataset\\EALPR Vechicles dataset\\plates models\\detection_model\\model3\\yolov5\\runs\\detect\\exp\\crops\\car-plate\n",
      "Path does not exist: F:\\egyptian car plates dataset\\EALPR Vechicles dataset\\plates models\\detection_model\\model3\\yolov5\\runs\\detect\\exp\\crops\\car-plate\n",
      "Path does not exist: F:\\egyptian car plates dataset\\EALPR Vechicles dataset\\plates models\\detection_model\\model3\\yolov5\\runs\\detect\\exp\\crops\\car-plate\n",
      "Path does not exist: F:\\egyptian car plates dataset\\EALPR Vechicles dataset\\plates models\\detection_model\\model3\\yolov5\\runs\\detect\\exp\\crops\\car-plate\n",
      "Path does not exist: F:\\egyptian car plates dataset\\EALPR Vechicles dataset\\plates models\\detection_model\\model3\\yolov5\\runs\\detect\\exp\\crops\\car-plate\n",
      "Path does not exist: F:\\egyptian car plates dataset\\EALPR Vechicles dataset\\plates models\\detection_model\\model3\\yolov5\\runs\\detect\\exp\\crops\\car-plate\n",
      "Path does not exist: F:\\egyptian car plates dataset\\EALPR Vechicles dataset\\plates models\\detection_model\\model3\\yolov5\\runs\\detect\\exp\\crops\\car-plate\n",
      "Path does not exist: F:\\egyptian car plates dataset\\EALPR Vechicles dataset\\plates models\\detection_model\\model3\\yolov5\\runs\\detect\\exp\\crops\\car-plate\n",
      "Path does not exist: F:\\egyptian car plates dataset\\EALPR Vechicles dataset\\plates models\\detection_model\\model3\\yolov5\\runs\\detect\\exp\\crops\\car-plate\n",
      "Path does not exist: F:\\egyptian car plates dataset\\EALPR Vechicles dataset\\plates models\\detection_model\\model3\\yolov5\\runs\\detect\\exp\\crops\\car-plate\n",
      "Path does not exist: F:\\egyptian car plates dataset\\EALPR Vechicles dataset\\plates models\\detection_model\\model3\\yolov5\\runs\\detect\\exp\\crops\\car-plate\n",
      "Path does not exist: F:\\egyptian car plates dataset\\EALPR Vechicles dataset\\plates models\\detection_model\\model3\\yolov5\\runs\\detect\\exp\\crops\\car-plate\n",
      "Path does not exist: F:\\egyptian car plates dataset\\EALPR Vechicles dataset\\plates models\\detection_model\\model3\\yolov5\\runs\\detect\\exp\\crops\\car-plate\n",
      "Path does not exist: F:\\egyptian car plates dataset\\EALPR Vechicles dataset\\plates models\\detection_model\\model3\\yolov5\\runs\\detect\\exp\\crops\\car-plate\n",
      "Path does not exist: F:\\egyptian car plates dataset\\EALPR Vechicles dataset\\plates models\\detection_model\\model3\\yolov5\\runs\\detect\\exp\\crops\\car-plate\n",
      "Path does not exist: F:\\egyptian car plates dataset\\EALPR Vechicles dataset\\plates models\\detection_model\\model3\\yolov5\\runs\\detect\\exp\\crops\\car-plate\n",
      "Path does not exist: F:\\egyptian car plates dataset\\EALPR Vechicles dataset\\plates models\\detection_model\\model3\\yolov5\\runs\\detect\\exp\\crops\\car-plate\n",
      "Path does not exist: F:\\egyptian car plates dataset\\EALPR Vechicles dataset\\plates models\\detection_model\\model3\\yolov5\\runs\\detect\\exp\\crops\\car-plate\n",
      "Path does not exist: F:\\egyptian car plates dataset\\EALPR Vechicles dataset\\plates models\\detection_model\\model3\\yolov5\\runs\\detect\\exp\\crops\\car-plate\n",
      "Path does not exist: F:\\egyptian car plates dataset\\EALPR Vechicles dataset\\plates models\\detection_model\\model3\\yolov5\\runs\\detect\\exp\\crops\\car-plate\n",
      "Path does not exist: F:\\egyptian car plates dataset\\EALPR Vechicles dataset\\plates models\\detection_model\\model3\\yolov5\\runs\\detect\\exp\\crops\\car-plate\n",
      "Path does not exist: F:\\egyptian car plates dataset\\EALPR Vechicles dataset\\plates models\\detection_model\\model3\\yolov5\\runs\\detect\\exp\\crops\\car-plate\n",
      "Path does not exist: F:\\egyptian car plates dataset\\EALPR Vechicles dataset\\plates models\\detection_model\\model3\\yolov5\\runs\\detect\\exp\\crops\\car-plate\n",
      "Path does not exist: F:\\egyptian car plates dataset\\EALPR Vechicles dataset\\plates models\\detection_model\\model3\\yolov5\\runs\\detect\\exp\\crops\\car-plate\n"
     ]
    },
    {
     "ename": "KeyboardInterrupt",
     "evalue": "",
     "output_type": "error",
     "traceback": [
      "\u001b[1;31m---------------------------------------------------------------------------\u001b[0m",
      "\u001b[1;31mKeyboardInterrupt\u001b[0m                         Traceback (most recent call last)",
      "Cell \u001b[1;32mIn[152], line 61\u001b[0m\n\u001b[0;32m     58\u001b[0m \u001b[38;5;66;03m# Check if it's time to extract a frame\u001b[39;00m\n\u001b[0;32m     59\u001b[0m \u001b[38;5;28;01mif\u001b[39;00m frame_count \u001b[38;5;241m%\u001b[39m \u001b[38;5;28mint\u001b[39m(cap\u001b[38;5;241m.\u001b[39mget(cv2\u001b[38;5;241m.\u001b[39mCAP_PROP_FPS)) \u001b[38;5;241m==\u001b[39m \u001b[38;5;241m0\u001b[39m:\n\u001b[0;32m     60\u001b[0m     \u001b[38;5;66;03m# Save the frame as an image in the output directory\u001b[39;00m\n\u001b[1;32m---> 61\u001b[0m     cv2\u001b[38;5;241m.\u001b[39mimwrite(os\u001b[38;5;241m.\u001b[39mpath\u001b[38;5;241m.\u001b[39mjoin(output_dir, \u001b[38;5;124mf\u001b[39m\u001b[38;5;124m\"\u001b[39m\u001b[38;5;124mframe\u001b[39m\u001b[38;5;132;01m{\u001b[39;00mframe_count\u001b[38;5;132;01m}\u001b[39;00m\u001b[38;5;124m.jpg\u001b[39m\u001b[38;5;124m\"\u001b[39m), frame)\n\u001b[0;32m     63\u001b[0m     \u001b[38;5;66;03m# Delete other images\u001b[39;00m\n\u001b[0;32m     64\u001b[0m     output \u001b[38;5;241m=\u001b[39m delete_image()\n",
      "File \u001b[1;32m~\\anaconda3\\Lib\\site-packages\\ultralytics\\utils\\patches.py:41\u001b[0m, in \u001b[0;36mimwrite\u001b[1;34m(filename, img, params)\u001b[0m\n\u001b[0;32m     30\u001b[0m \u001b[38;5;250m\u001b[39m\u001b[38;5;124;03m\"\"\"Write an image to a file.\u001b[39;00m\n\u001b[0;32m     31\u001b[0m \n\u001b[0;32m     32\u001b[0m \u001b[38;5;124;03mArgs:\u001b[39;00m\n\u001b[1;32m   (...)\u001b[0m\n\u001b[0;32m     38\u001b[0m \u001b[38;5;124;03m    (bool): True if the file was written, False otherwise.\u001b[39;00m\n\u001b[0;32m     39\u001b[0m \u001b[38;5;124;03m\"\"\"\u001b[39;00m\n\u001b[0;32m     40\u001b[0m \u001b[38;5;28;01mtry\u001b[39;00m:\n\u001b[1;32m---> 41\u001b[0m     cv2\u001b[38;5;241m.\u001b[39mimencode(Path(filename)\u001b[38;5;241m.\u001b[39msuffix, img, params)[\u001b[38;5;241m1\u001b[39m]\u001b[38;5;241m.\u001b[39mtofile(filename)\n\u001b[0;32m     42\u001b[0m     \u001b[38;5;28;01mreturn\u001b[39;00m \u001b[38;5;28;01mTrue\u001b[39;00m\n\u001b[0;32m     43\u001b[0m \u001b[38;5;28;01mexcept\u001b[39;00m \u001b[38;5;167;01mException\u001b[39;00m:\n",
      "\u001b[1;31mKeyboardInterrupt\u001b[0m: "
     ]
    }
   ],
   "source": [
    "def delete_image():\n",
    "    path = r\"F:\\egyptian car plates dataset\\EALPR Vechicles dataset\\plates models\\detection_model\\model3\\yolov5\\runs\\detect\\exp\\crops\\car-plate\"\n",
    "    \n",
    "    if os.path.exists(path):\n",
    "        for i in os.listdir(path):\n",
    "            x = i.split(\".jpg\")[0].split(\"image\")[1]\n",
    "            if x != '0':\n",
    "                os.remove(os.path.join(path, i))\n",
    "                print(f\"Deleted: {i}\")\n",
    "        return \"success\"\n",
    "    else:\n",
    "        print(f\"Path does not exist: {path}\")\n",
    "        return \"error\"\n",
    "\n",
    "def deleted():\n",
    "    delete_folder_or_file(exp_path)    \n",
    "    delete_folder_or_file(saved_img_dir)\n",
    "    delete_folder_or_file(resized_img_dir)\n",
    "    return    \n",
    "        \n",
    "# Function to perform object detection and return final result\n",
    "def perform_object_detection(frame):\n",
    "    # Perform object detection on the frame using YOLOv5\n",
    "    # Example code, replace with your own implementation\n",
    "#     model_path = r\"path/to/yolov5/model.pt\"\n",
    "    model = torch.hub.load('.', 'custom', path='F:\\egyptian car plates dataset\\EALPR Vechicles dataset\\plates models\\detection_model\\model3/best.pt', source='local')\n",
    "    results = model(frame)\n",
    "    crops = results.crop(save=True)\n",
    "    return results\n",
    "\n",
    "# # Function to process detection results and return final result\n",
    "# def return_final_result():\n",
    "#     # Process detection results and return final result\n",
    "#     # Example code, replace with your own implementation\n",
    "#     final_result = None\n",
    "#     return final_result\n",
    "\n",
    "# Define the path to the input video file\n",
    "video_path = r\"F:/egyptian car plates dataset/EALPR Vechicles dataset/plates models/detection_model/model3/1.mp4\"\n",
    "\n",
    "# Define the output directory for saving the frames\n",
    "output_dir = r\"F:\\egyptian car plates dataset\\EALPR Vechicles dataset\\plates models\\detection_model\\model3\\saved_frames3\"\n",
    "os.makedirs(output_dir, exist_ok=True)\n",
    "\n",
    "# Initialize the video capture object\n",
    "cap = cv2.VideoCapture(video_path)\n",
    "\n",
    "# Initialize variables for frame extraction\n",
    "frame_count = 0\n",
    "frame_rate = 1  # Extract a frame every second\n",
    "\n",
    "# Loop through the frames of the video and extract frames at the specified frame rate\n",
    "while True:\n",
    "    ret, frame = cap.read()\n",
    "    if not ret:\n",
    "        break\n",
    "\n",
    "    # Check if it's time to extract a frame\n",
    "    if frame_count % int(cap.get(cv2.CAP_PROP_FPS)) == 0:\n",
    "        # Save the frame as an image in the output directory\n",
    "        cv2.imwrite(os.path.join(output_dir, f\"frame{frame_count}.jpg\"), frame)\n",
    "        \n",
    "        # Delete other images\n",
    "        output = delete_image()\n",
    "        if output != \"error\":\n",
    "            # Perform object detection on the frame\n",
    "            results = perform_object_detection(frame)\n",
    "            # Process detection results and get the final result\n",
    "            final_result = return_final_result()\n",
    "            lst.append(final_result)\n",
    "            print(lst)\n",
    "            deleted()\n",
    "            \n",
    "#             # Process the bounding boxes, labels, and scores as desired\n",
    "#             boxes = results.xyxy[0][:, :4].detach().numpy()\n",
    "#             labels = results.xyxy[0][:, 5].detach().numpy()\n",
    "#             scores = results.xyxy[0][:, 4].detach().numpy()\n",
    "        else:\n",
    "            continue\n",
    "    \n",
    "    # Increment the frame count\n",
    "    frame_count += 1\n",
    "\n",
    "    # Set the video capture object to the next frame at the specified frame rate\n",
    "    cap.set(cv2.CAP_PROP_POS_FRAMES, frame_count * frame_rate)\n",
    "\n",
    "# Release the video capture object\n",
    "cap.release()"
   ]
  },
  {
   "cell_type": "code",
   "execution_count": 146,
   "id": "dd2b58bb",
   "metadata": {},
   "outputs": [
    {
     "data": {
      "text/plain": [
       "[]"
      ]
     },
     "execution_count": 146,
     "metadata": {},
     "output_type": "execute_result"
    }
   ],
   "source": [
    "lst"
   ]
  },
  {
   "cell_type": "code",
   "execution_count": null,
   "id": "2bddb93c",
   "metadata": {},
   "outputs": [],
   "source": [
    "        except (OSError, cv2.error) as e:\n",
    "            print(f\"Error processing image {img}: {e}\")\n",
    "            continue"
   ]
  },
  {
   "cell_type": "code",
   "execution_count": 63,
   "id": "de28d391",
   "metadata": {},
   "outputs": [
    {
     "data": {
      "text/plain": [
       "[['ق', 'ع', 'ر'], '١١', 'أخرى']"
      ]
     },
     "execution_count": 63,
     "metadata": {},
     "output_type": "execute_result"
    }
   ],
   "source": [
    "lst[0]"
   ]
  },
  {
   "cell_type": "code",
   "execution_count": 15,
   "id": "a3a4f085",
   "metadata": {},
   "outputs": [
    {
     "name": "stdout",
     "output_type": "stream",
     "text": [
      "F:\\egyptian car plates dataset\\EALPR Vechicles dataset\\plates models\\detection_model\\model3\\yolov5\\runs\\detect\\exp\\crops\\car-plate\\image0.jpg\n",
      "F:\\egyptian car plates dataset\\EALPR Vechicles dataset\\plates models\\detection_model\\model3\\yolov5\\runs\\detect\\exp\\crops\\car-plate\\image02.jpg\n"
     ]
    }
   ],
   "source": [
    "path = r\"F:\\egyptian car plates dataset\\EALPR Vechicles dataset\\plates models\\detection_model\\model3\\yolov5\\runs\\detect\\exp\\crops\\car-plate\"\n",
    "for i in os.listdir(path):\n",
    "    print(path+\"\\\\\"+i)"
   ]
  },
  {
   "cell_type": "code",
   "execution_count": 16,
   "id": "45e9746b",
   "metadata": {},
   "outputs": [
    {
     "name": "stdout",
     "output_type": "stream",
     "text": [
      "Image file deleted successfully.\n"
     ]
    }
   ],
   "source": [
    "path = r\"F:\\egyptian car plates dataset\\EALPR Vechicles dataset\\plates models\\detection_model\\model3\\yolov5\\runs\\detect\\exp\\crops\\car-plate\"\n",
    "for i in os.listdir(path):\n",
    "    x = i.split(\".jpg\")[0].split(\"image\")[1]\n",
    "    if x != '0':\n",
    "        os.remove(path+\"\\\\\"+i)\n",
    "        print(\"Image file deleted successfully.\")"
   ]
  }
 ],
 "metadata": {
  "kernelspec": {
   "display_name": "Python 3 (ipykernel)",
   "language": "python",
   "name": "python3"
  },
  "language_info": {
   "codemirror_mode": {
    "name": "ipython",
    "version": 3
   },
   "file_extension": ".py",
   "mimetype": "text/x-python",
   "name": "python",
   "nbconvert_exporter": "python",
   "pygments_lexer": "ipython3",
   "version": "3.11.3"
  }
 },
 "nbformat": 4,
 "nbformat_minor": 5
}
